{
  "nbformat": 4,
  "nbformat_minor": 0,
  "metadata": {
    "kernelspec": {
      "display_name": "Python 3",
      "language": "python",
      "name": "python3"
    },
    "language_info": {
      "codemirror_mode": {
        "name": "ipython",
        "version": 3
      },
      "file_extension": ".py",
      "mimetype": "text/x-python",
      "name": "python",
      "nbconvert_exporter": "python",
      "pygments_lexer": "ipython3",
      "version": "3.7.6"
    },
    "colab": {
      "name": "Python Fundamental for Data Science.ipynb",
      "provenance": []
    }
  },
  "cells": [
    {
      "cell_type": "markdown",
      "metadata": {
        "id": "VwqSt6Wzuf1n"
      },
      "source": [
        "# Python Fundamental for Data Science\n",
        "\n",
        "Pelajari Python - bahasa pemograman terpopuler di dunia saat ini - dengan cara simpel, praktis dan mengasyikkan.\n",
        "Tujuan course dasar ini agar Anda bisa mengenal dan mulai menggunakan Python di kegiatan sehari-hari."
      ]
    },
    {
      "cell_type": "markdown",
      "metadata": {
        "id": "gATnwtJtuf1o"
      },
      "source": [
        "## What's Python\n",
        "\n",
        "Pendahuluan tentang Python, The Most Popular Data Science Programming Language"
      ]
    },
    {
      "cell_type": "markdown",
      "metadata": {
        "id": "EiCx6Niyuf1p"
      },
      "source": [
        "### Pendahuluan Tentang Python\n",
        "\n",
        "Python merupakan bahasa pemrograman yag diciptakan pada tahun 1991 oleh Guido van Russom, seorang matematikawan.\n",
        "\n",
        "Python mulai beranjak naik dan populer. Pada beberapa survey terkait bahasa pemrograman yang sering dicari di google, Python berhasil melonjak tajam bahkan mengungguli Java. Bahkan dari insight developer survey dari stackoverflow pada tahun 2018, Python berhasil naik pada TOP 10 programming language yang paling dicari menggungguli seniornya, C, PHP, dan C#. Python merupakan programming language yang memiliki peningkatan pencarian yang sangat tajam dalam setahun terakhir. Python mengklaim dirinya adalah programming language dengan perkembangan tercepat. Selain dari perkembangan library yang semakin kuat, kontributor dari python juga sangat banyak yang akhirnya membuat python menjadi salah satu programming language yang solid dan berkembang pesat.\n",
        "\n",
        "Python sendiri berguna dalam berbagai aspek :\n",
        "\n",
        "- Web Development (Server – Side)\n",
        "- Software Development\n",
        "- Mathematics\n",
        "- Scripting\n",
        "- Data Science\n",
        "- Bisa mengelola Big Data dan Rumus matematika yang complex\n",
        "- Cocok untuk riset dan rapid prototype suatu product dan launch hingga produksi\n",
        "- CRUD sebuah file dan database\n",
        "\n",
        "Kepopuleran python sendiri sekarang ada pada track data science. Banyaknya library dan framework seperti scikit-learn dan tensorflow membuat para pecinta data mining, AI, dan Machine learning menyukai python dalam pengembangan riset dan penelitian mereka. Berkembangnya dunia data science didunia ini juga salah satu alasan kenapa python menjadi begitu populer sekarang."
      ]
    },
    {
      "cell_type": "markdown",
      "metadata": {
        "id": "gKrHs_KOuf1q"
      },
      "source": [
        "### Mengapa Python Populer\n",
        "\n",
        "Selain aspek dari meningkatnya minat masyarakat dunia terhadap data science, ada banyak hal yang membuat Python populer. Python merupakan salah satu programming language yang cocok untuk scripting dan bisa bergerak dalam berbagai platform OS dan IoT. Python sangat mirip English language. Meskipun tergolong sebagai high level programming language, python sangat mudah dimengerti karena syntaxnya yang sederhana. Python bisa bergerak dalam dalam berbagai fungsional programming dan OOP.  Python berjalan pada intepreter system, artinya code yang sudah ditulis bisa dijalankan sesegera mungkin.\n",
        "\n",
        "Beberapa hal yang mungkin kelebihan dari python:\n",
        "\n",
        "- Python dirancang untuk mudah dibaca, dan memiliki beberapa kesamaan dengan bahasa Inggris dengan pengaruh dari matematika.\n",
        "- Python menggunakan baris baru untuk mengakhiri perintah, dibandingkan dengan bahasa pemrograman lain yang sering menggunakan titik koma atau tanda kurung.\n",
        "- Python bergantung pada indentasi, menggunakan spasi, untuk mendefinisikan ruang lingkup; seperti lingkup loop, fungsi, dan kelas. Bahasa pemrograman lainnya sering menggunakan kurung kurawal untuk tujuan ini\n",
        "- Jika kalian mencari di internet tentang programming python, biasanya akan ada 2 jenis python, python 2 dan python 3. versi utama Python yang paling baru adalah Python 3, yang akan kami gunakan dalam platform ini. Meskipun begitu, Python 2. Python 2 masih banyak digunakan karena versi python2 ini dianggap sudah stable dan masih bisa digunakan untuk production level. Berbeda dengan python3 yang masih berkembang terus menerus."
      ]
    },
    {
      "cell_type": "markdown",
      "metadata": {
        "id": "ay2eyI8Xuf1q"
      },
      "source": [
        "### Code Hello World\n",
        "\n",
        "Struktur code pada Python relatif sangat sederhana dan tidak terlalu rumit seperti pada Java ataupun C. Selain karena memang mudah dibaca, python juga termasuk pada high level programming language. Sebagai contoh, cobalah ketik coding pada Code Editor dengan perintah berikut untuk mengeluarkan kata-kata yang diperintahkan.\n",
        "\n",
        "`print (\"Hello World\")`\n",
        "\n",
        "Klik Tombol **Run** dan hasil pada panel console akan keluar seperti berikut :\n",
        "\n",
        "```\n",
        "Hello World\n",
        "```\n",
        "\n",
        "Coba lanjutkan code tersebut pada baris selanjutnya dengan menggunakan kode ini :\n",
        "\n",
        "`print (\"Hello World\")\n",
        "print(5+1)`\n",
        "\n",
        "Klik Tombol **Run** dan hasil pada panel console akan keluar seperti berikut :\n",
        "\n",
        "Hello World\n",
        "6\n",
        "\n",
        "**Note : setiap print akan mencetak baris baru.**\n",
        "\n",
        "Memang terlihat sangat sederhana jika hanya untuk kasus sederhana yang kita pelajari pada section kali ini. Namun, python tidak sesederhana itu. Biasanya kita juga menggunakan import library khusus jika sudah menyangkut masalah yang lebih kompleks. Next section mungkin akan menjelaskan lebih lanjut.\n",
        "\n",
        "**Tugas Praktek**\n",
        "1. Tampilkan hasil perhitungan (10*2+5) pada baris pertama.\n",
        "2. Tampilkan teks \"Academy DQLab\" pada baris kedua."
      ]
    },
    {
      "cell_type": "code",
      "metadata": {
        "id": "TVmGBNcSuf1r",
        "outputId": "bcfe0e50-ae1c-4787-fbd3-4da35f469e08"
      },
      "source": [
        "print(10 * 2 + 5)\n",
        "print(\"Academy DQLab\")"
      ],
      "execution_count": null,
      "outputs": [
        {
          "output_type": "stream",
          "text": [
            "25\n",
            "Academy DQLab\n"
          ],
          "name": "stdout"
        }
      ]
    },
    {
      "cell_type": "markdown",
      "metadata": {
        "id": "yxUtXN-juf1y"
      },
      "source": [
        "### Melakukan Comment Pada Python\n",
        "\n",
        "Pada suatu kegiatan membuat code, penting sekali bagi para penulis codenya untuk memberikan sebuah dokumentasi pada penulisan codenya. Mengapa hal itu sangat penting? Sederhana, jika codenya sudah lebih dari ribuan baris dan ada beberapa bagian yang perlu diperbaiki karena suatu perubahan, para penulis code cukup melihat dokumentasinya dan tidak perlu membaca dan memahami seluruh isi code dari awal. Nah, salah satu metode yang biasa digunakan adalah menggunakan comment. Sama dengan Bahasa R, python juga menggunakan tanda “#” untuk melakukan comment pada script.\n",
        "\n",
        "Cobalah ketikkan sebuah kalimat seperti di bawah ini beserta commentnya.\n",
        "\n",
        "`print(\"Ini adalah sebuah baris kode\")#ini adalah contoh comment dan tidak akan tercetak`\n",
        "\n",
        "Klik tombol  maka akan keluar hasil seperti ini:\n",
        "\n",
        "```\n",
        "Ini adalah sebuah baris kode\n",
        "```\n",
        "\n",
        "Perlu diketahui, comment tidak akan pernah tampil pada hasil melalui console atau GUI. Fungsi comment bisa dikatakan sebagai penanda. Kenapa bab ini diberikan diawal? Harapannya dengan pengetahuan ini setiap kali Anda membuat baris code, bisa diberikan dokumentasi. Dokumentasi sangat penting untuk pengembangan suatu code apabila memang nanti diperlukan.\n",
        "\n",
        "Dokumentasi kode juga berlaku untuk variable. Sangat penting mengetahui bahwa setiap variable berfungsi sebagai apa dan isinya apa. Maka dari itu jangan lupa untuk membuat dan memberi comment untuk setiap materi dqlab!\n",
        "\n",
        "**Tugas Praktek**\n",
        "\n",
        "Berikan keterangan untuk setiap baris program dengan perintah comment:\n",
        "\n",
        "`print(10*2+5) #fungsi matematika\n",
        "print(\"Academy DQLab\") #fungsi mencetak kalimat`"
      ]
    },
    {
      "cell_type": "code",
      "metadata": {
        "id": "9VFBRMC4uf1z",
        "outputId": "96cfee77-4764-41fa-a778-4fb6db82378c"
      },
      "source": [
        "print(10 * 2 + 5)        #fungsi matematika\n",
        "print(\"Academy DQLab\")   #fungsi mencetak kalimat"
      ],
      "execution_count": null,
      "outputs": [
        {
          "output_type": "stream",
          "text": [
            "25\n",
            "Academy DQLab\n"
          ],
          "name": "stdout"
        }
      ]
    },
    {
      "cell_type": "markdown",
      "metadata": {
        "id": "6iQEvhTVuf12"
      },
      "source": [
        "### Variable, Basic Data Type and Print\n",
        "\n",
        "Penggunaan variabel atau suatu objek yang bisa merepresentasikan sebuah nilai atau value sangat penting dalam bahasa pemrograman. Selain itu mempermudah dalam membaca source code, pemberian variable yang efisien juga akan membuat code berjalan optimal dan dinamis. Pada sesi kali ini kita akan belajar bagaimana cara inisialisasi variable dalam beberapa data type dan menampilkannya (print).\n",
        "\n",
        "Tipe Data | Contoh | Penjelasan\n",
        "--- | --- | ---\n",
        "Boolean | True atau False | Menyatakan benar True yang bernilai 1, atau salah False yang bernilai 0\n",
        "String | \"Ayo belajar Python\" | Menyatakan karakter/kalimat bisa berupa huruf angka, dll (diapit tanda \" atau ')\n",
        "Integer | 25 atau 1209 | Menyatakan bilangan bulat\n",
        "Float | 3.14 atau 0.99 | Menyatakan bilangan yang mempunyai koma\n",
        "List | ['xyz', 786, 2.23] | Data untaian yang menyimpan berbagai tipe data dan isinya bisa diubah-ubah\n",
        "Tuple | ('xyz', 768, 2.23) | Data untaian yang menyimpan berbagai tipe data tapi isinya tidak bisa diubah\n",
        "Dictionary | {'nama': 'adi','id':2} | Data untaian yang menyimpan berbagai tipe data berupa pasangan penunjuk dan nilai"
      ]
    },
    {
      "cell_type": "markdown",
      "metadata": {
        "id": "mQx8Kg_wuf12"
      },
      "source": [
        "### Printing Data Type\n",
        "\n",
        "Cobalah mengetik kode di bawah, klik Run maka akan keluar hasil seperti ini:"
      ]
    },
    {
      "cell_type": "code",
      "metadata": {
        "id": "PTRaNVz9uf13",
        "outputId": "ddcb5b0b-4357-47bb-dace-e43b892a12c2"
      },
      "source": [
        "#tipe data Boolean\n",
        "print(True)\n",
        "\n",
        "#tipe data String\n",
        "print(\"Ayo belajar Python\")\n",
        "print('Belajar Python Sangat Mudah di DQLAB')\n",
        "\n",
        "#tipe data Integer\n",
        "print(20)\n",
        "\n",
        "#tipe data Float\n",
        "print(3.14)\n",
        "\n",
        "#tipe data List\n",
        "print([1,2,3,4,5])\n",
        "print([\"satu\", \"dua\", \"tiga\"])\n",
        "\n",
        "#tipe data Tuple\n",
        "print((1,2,3,4,5))\n",
        "print((\"satu\", \"dua\", \"tiga\"))\n",
        "\n",
        "#tipe data Dictionary\n",
        "print({\"nama\":\"Budi\", 'umur':20})\n",
        "\n",
        "#tipe data Dictionary dimasukan ke dalam variabel biodata\n",
        "biodata = {\"nama\":\"Andi\", 'umur':21}  #proses inisialisasi variabel biodata\n",
        "print(biodata)                        #proses pencetakan variabel biodata yang berisi tipe data Dictionary\n",
        "type(biodata)                         #fungsi untuk mengecek jenis tipe data. akan tampil <class 'dict'>"
      ],
      "execution_count": null,
      "outputs": [
        {
          "output_type": "stream",
          "text": [
            "True\n",
            "Ayo belajar Python\n",
            "Belajar Python Sangat Mudah di DQLAB\n",
            "20\n",
            "3.14\n",
            "[1, 2, 3, 4, 5]\n",
            "['satu', 'dua', 'tiga']\n",
            "(1, 2, 3, 4, 5)\n",
            "('satu', 'dua', 'tiga')\n",
            "{'nama': 'Budi', 'umur': 20}\n",
            "{'nama': 'Andi', 'umur': 21}\n"
          ],
          "name": "stdout"
        },
        {
          "output_type": "execute_result",
          "data": {
            "text/plain": [
              "dict"
            ]
          },
          "metadata": {
            "tags": []
          },
          "execution_count": 4
        }
      ]
    },
    {
      "cell_type": "markdown",
      "metadata": {
        "id": "eRuiz5Atuf15"
      },
      "source": [
        "**Tugas Praktek**\n",
        "\n",
        "Printing Data type menggunakan Variable. Ketikan kode di bawah ini pada Code Editor"
      ]
    },
    {
      "cell_type": "code",
      "metadata": {
        "id": "gRhK9IJ5uf16",
        "outputId": "c6b6438e-7bee-4ed3-9196-82ed4e7f0e12"
      },
      "source": [
        "var_string=\"Belajar Python DQLAB\"\n",
        "var_int=10\n",
        "var_float=3.14\n",
        "var_list=[1,2,3,4]\n",
        "var_tuple=(\"satu\",\"dua\",\"tiga\")\n",
        "var_dict={\"nama\":\"Ali\", 'umur':20}\n",
        "\n",
        "\n",
        "print(var_string)\n",
        "print(var_int)\n",
        "print(var_float)\n",
        "print(var_list)\n",
        "print(var_tuple)\n",
        "print(var_dict)"
      ],
      "execution_count": null,
      "outputs": [
        {
          "output_type": "stream",
          "text": [
            "Belajar Python DQLAB\n",
            "10\n",
            "3.14\n",
            "[1, 2, 3, 4]\n",
            "('satu', 'dua', 'tiga')\n",
            "{'nama': 'Ali', 'umur': 20}\n"
          ],
          "name": "stdout"
        }
      ]
    },
    {
      "cell_type": "markdown",
      "metadata": {
        "id": "AIaNtWwRuf19"
      },
      "source": [
        "Tambahkan code di bawah ini untuk mengetahui type data dari suatu value di variabel"
      ]
    },
    {
      "cell_type": "code",
      "metadata": {
        "id": "MKhgPhnCuf19",
        "outputId": "ec4baf5f-3579-4bee-e4e5-b64bd2565e25"
      },
      "source": [
        "print(type(var_string))\n",
        "print(type(var_int))\n",
        "print(type(var_float))\n",
        "print(type(var_list))\n",
        "print(type(var_tuple))\n",
        "print(type(var_dict))"
      ],
      "execution_count": null,
      "outputs": [
        {
          "output_type": "stream",
          "text": [
            "<class 'str'>\n",
            "<class 'int'>\n",
            "<class 'float'>\n",
            "<class 'list'>\n",
            "<class 'tuple'>\n",
            "<class 'dict'>\n"
          ],
          "name": "stdout"
        }
      ]
    },
    {
      "cell_type": "markdown",
      "metadata": {
        "id": "bu2cEIS0uf2B"
      },
      "source": [
        "## Struktur Kontrol: Percabangan Keputusan\n",
        "\n",
        "Mengetahui penggunaan IF, ELSE dan IF ELSE dalam Python"
      ]
    },
    {
      "cell_type": "markdown",
      "metadata": {
        "id": "nP3Y0N5-uf2B"
      },
      "source": [
        "### Pendahuluan\n",
        "\n",
        "Dalam membuat suatu keputusan biasanya pasti ada sebuah pilihan. Untuk mewujudkan suatu kerangka berpikir pada suatu pilihan pada bahasa pemrograman biasanya kita menggunakan konsep IF, ELSE. Pada python sebenarnya hampir sama dan tidak ada perbedaan yang terlalu signifikan. Perbedaanya mungkin ada pada\n",
        "\n",
        "Pada praktek kali ini akan dibagi menjadi 3 bagian :\n",
        "\n",
        "- Menggunakan IF yang jika direpresentasikan dengan kata – kata, (Jika, sesuatu memenuhi suatu kondisi, maka lakukan A, jika tidak, tidak terjadi apa-apa)\n",
        "- Menggunakan IF dan ELSE yang jika direpresentasikan dengan kata – kata, (Jika, sesuatu memenuhi suatu kondisi, maka lakukan A, jika tidak, lakukan B)\n",
        "- Menggunakan IF, ELIF dan ELSE. ELIF sendiri sebenarnya sama persis dengan ELSE IF. Namun, pada python disingkat menjadi ELSE IF. (Jika, sesuatu memenuhi suatu kondisi, maka lakukan A, jika tidak, lakukan pengecekan pada kondisi berikutnya, jika memenuhi lakukan B, jika tidak maka lakukan C)\n",
        "\n",
        "Pada praktek operator IF, ELIF dan ELSE ini akan sedikit berbeda dengan sebelumnya. Perlu banyak modifikasi code yang dilakukan agar pemahaman materi bisa sempurna. Maka dari itu mohon dibaca dengan teliti ya!"
      ]
    },
    {
      "cell_type": "markdown",
      "metadata": {
        "id": "uoMY_UW5uf2C"
      },
      "source": [
        "### IF Statement\n",
        "\n",
        "Penggunaan IF sebenarnya adalah sebuah statement untuk menentukan keputusan mana yang akan diambil berdasarkan suatu kondisi yang ditentukan oleh pembuat program. Cobalah ketikkan kode seperti di bawah ini :"
      ]
    },
    {
      "cell_type": "code",
      "metadata": {
        "id": "Kn_iVSvquf2C",
        "outputId": "fdd14f30-38f1-4452-868e-b36b889f1d93"
      },
      "source": [
        "i = 10                               #inisialisasi variable i yang memiliki nilai 10\n",
        "\n",
        "if(i==10):                           #pengecekan nilai i apakah sama dengan 10\n",
        "    print(\"ini adalah angka 10\")     #jika TRUE maka akan mencetak kalimat ini"
      ],
      "execution_count": null,
      "outputs": [
        {
          "output_type": "stream",
          "text": [
            "ini adalah angka 10\n"
          ],
          "name": "stdout"
        }
      ]
    },
    {
      "cell_type": "markdown",
      "metadata": {
        "id": "OSB6fYUZuf2F"
      },
      "source": [
        "Dengan mengunakan code yang sama, ubahlah nilai variable i menjadi 7."
      ]
    },
    {
      "cell_type": "code",
      "metadata": {
        "id": "CbMJPfy6uf2F"
      },
      "source": [
        "i = 7                                #inisialisasi variable i yang memiliki nilai 10\n",
        "\n",
        "if(i==10):                           #pengecekan nilai i apakah sama dengan 10\n",
        "    print(\"ini adalah angka 10\")     #jika TRUE maka akan mencetak kalimat ini"
      ],
      "execution_count": null,
      "outputs": []
    },
    {
      "cell_type": "markdown",
      "metadata": {
        "id": "CIKXZ6Z1uf2I"
      },
      "source": [
        "### IF … ELSE …\n",
        "\n",
        "Cobalah ketikkan kode seperti di bawah ini:"
      ]
    },
    {
      "cell_type": "code",
      "metadata": {
        "id": "YjNrUI5Guf2I",
        "outputId": "b03c3e8a-8538-4d74-96c3-2dbfe50c790f"
      },
      "source": [
        "i = 10                               #inisialisasi variable i yang memiliki nilai 10\n",
        "\n",
        "if(i==10):                           #pengecekan nilai i apakah sama dengan 10\n",
        "    print(\"ini adalah angka 10\")     #jika TRUE maka akan mencetak kalimat ini\n",
        "else:\n",
        "    print(\"bukan angka 10\")          #jika FALSE akan mencetak kalimat ini"
      ],
      "execution_count": null,
      "outputs": [
        {
          "output_type": "stream",
          "text": [
            "ini adalah angka 10\n"
          ],
          "name": "stdout"
        }
      ]
    },
    {
      "cell_type": "markdown",
      "metadata": {
        "id": "VmQ7CkALuf2K"
      },
      "source": [
        "**Penjelasan** : Variable i memenuhi syarat pada kondisi pertama. Yaitu nilai sama dengan 10. Maka dari itu variable i tidak perlu dicek kembali di kondisi kedua.\n",
        "\n",
        "Dengan menggunakan code yang sama, coba ubah nilai varible i menjadi 5."
      ]
    },
    {
      "cell_type": "code",
      "metadata": {
        "id": "TRcZvtB-uf2L",
        "outputId": "3ee30d33-a84e-412d-a55e-0efdf807a2e0"
      },
      "source": [
        "i = 5                                #inisialisasi variable i yang memiliki nilai 10\n",
        "\n",
        "if(i==10):                           #pengecekan nilai i apakah sama dengan 10\n",
        "    print(\"ini adalah angka 10\")     #jika TRUE maka akan mencetak kalimat ini\n",
        "else:\n",
        "    print(\"bukan angka 10\")          #jika FALSE akan mencetak kalimat ini"
      ],
      "execution_count": null,
      "outputs": [
        {
          "output_type": "stream",
          "text": [
            "bukan angka 10\n"
          ],
          "name": "stdout"
        }
      ]
    },
    {
      "cell_type": "markdown",
      "metadata": {
        "id": "gqRNQVFouf2Q"
      },
      "source": [
        "**Penjelasan** : Nilai variable adalah 5. Pada kondisi pertama variable i tidak memenuhi. Maka dari output yang diberikan adalah perintah pada else yang merupakan hasil apabila pengecekan pertama tidak sesuai."
      ]
    },
    {
      "cell_type": "markdown",
      "metadata": {
        "id": "LB3ztl2Suf2R"
      },
      "source": [
        "### IF … ELIF … ELSE ….\n",
        "\n",
        "Cobalah ketikkan kode seperti di bawah ini: "
      ]
    },
    {
      "cell_type": "code",
      "metadata": {
        "id": "nIKCd9Nduf2S",
        "outputId": "dbc8d862-e037-4954-88e3-296c722cbe41"
      },
      "source": [
        "i=5\n",
        "\n",
        "if(i==5):\n",
        "     print(\"ini adalah angka 5\")\n",
        "elif(i>5):\n",
        "     print(\"lebih besar dari 5\")\n",
        "else:\n",
        "     print(\"lebih kecil dari 5\")"
      ],
      "execution_count": null,
      "outputs": [
        {
          "output_type": "stream",
          "text": [
            "ini adalah angka 5\n"
          ],
          "name": "stdout"
        }
      ]
    },
    {
      "cell_type": "markdown",
      "metadata": {
        "id": "F0wqK6AMuf2U"
      },
      "source": [
        "Coba modifikasi code sebelumnya dengan merubah nilai variable i menjadi 7, seperti code dibawah ini:"
      ]
    },
    {
      "cell_type": "code",
      "metadata": {
        "id": "IjfLCpzluf2U",
        "outputId": "2999b2a3-b7a2-4736-b363-130a6266cad2"
      },
      "source": [
        "i=7\n",
        "\n",
        "if(i==5):\n",
        "     print(\"ini adalah angka 5\")\n",
        "elif(i>5):\n",
        "     print(\"lebih besar dari 5\")\n",
        "else:\n",
        "     print(\"lebih kecil dari 5\")"
      ],
      "execution_count": null,
      "outputs": [
        {
          "output_type": "stream",
          "text": [
            "lebih besar dari 5\n"
          ],
          "name": "stdout"
        }
      ]
    },
    {
      "cell_type": "markdown",
      "metadata": {
        "id": "oWhYbHGQuf2X"
      },
      "source": [
        "**Penjelasan** : Nilai variable i tidak memenuhi dari kondisi pertama dimana ditanyakan apakah nilai i sama dengan 5. Lalu masuk pada pengecekan kedua variable i memenuhi. Dan akhirnya dicetak kondisi tersebut.\n",
        "\n",
        "Ubah kembali nilai variable i menjadi 3."
      ]
    },
    {
      "cell_type": "code",
      "metadata": {
        "id": "_phSAAhruf2X",
        "outputId": "c98b6f79-5f4b-4824-fd5c-bff7b5ab20ec"
      },
      "source": [
        "i=3\n",
        "\n",
        "if(i==5):\n",
        "     print(\"ini adalah angka 5\")\n",
        "elif(i>5):\n",
        "     print(\"lebih besar dari 5\")\n",
        "else:\n",
        "     print(\"lebih kecil dari 5\")"
      ],
      "execution_count": null,
      "outputs": [
        {
          "output_type": "stream",
          "text": [
            "lebih kecil dari 5\n"
          ],
          "name": "stdout"
        }
      ]
    },
    {
      "cell_type": "markdown",
      "metadata": {
        "id": "QaKz7q-Cuf2a"
      },
      "source": [
        "**Penjelasan** : Nilai variable i tidak memenuhi dari kondisi pertama dimana ditanyakan apakah nilai i sama dengan 5. Lalu masuk pada pengecekan kedua variable i juga tidak memenuhi. Maka dari itu langsung masuk pada perintah ketiga karena kedua pengecekan awal tidak memenuhi."
      ]
    },
    {
      "cell_type": "markdown",
      "metadata": {
        "id": "lpDIQ3sLuf2a"
      },
      "source": [
        "### NESTED IF\n",
        "\n",
        "Fungsi IF sendiri bisa digunakan secara bertingkat. Atau dilakukan pengecekan lebih dari 1 statement di dalamnya. Semisal seperti ini:\n",
        "\n",
        "`if ( i<7 && i <3)`\n",
        "\n",
        "yang mana artinya i harus bernilai kurang dari 7 dan kurang dari 3 agar bisa memenuhi pengecekan tersebut.\n",
        "\n",
        "Bisa juga dilakukan pengecekan bertingkat seperti ini, cobalah code di bawah ini untuk memperjelas teori itu"
      ]
    },
    {
      "cell_type": "code",
      "metadata": {
        "id": "Nl3GaUdNuf2a",
        "outputId": "d3da6683-d8c7-476f-9c3e-b9a9f347bee6"
      },
      "source": [
        "i=2\n",
        "if (i<7):\n",
        "    print(\"nilai i kurang dari 7\")\n",
        "    if (i<3):\n",
        "        print(\"nilai i kurang dari 7 dan kurang dari 3\")\n",
        "    else:\n",
        "        print(\"nilai i kurang dari 7 tapi lebih dari 3\")"
      ],
      "execution_count": null,
      "outputs": [
        {
          "output_type": "stream",
          "text": [
            "nilai i kurang dari 7\n",
            "nilai i kurang dari 7 dan kurang dari 3\n"
          ],
          "name": "stdout"
        }
      ]
    },
    {
      "cell_type": "markdown",
      "metadata": {
        "id": "2cLzpG0Auf2d"
      },
      "source": [
        "Pengecekan bertingkat ini kerap disebut sebagai nested IF."
      ]
    },
    {
      "cell_type": "markdown",
      "metadata": {
        "id": "jCZ7jDGLuf2e"
      },
      "source": [
        "## Operator Matematika dan Pembanding\n",
        "\n",
        "Penggunaan Operator Matematika dan Pembanding Pada Python"
      ]
    },
    {
      "cell_type": "markdown",
      "metadata": {
        "id": "di4c9dJPuf2f"
      },
      "source": [
        "### Pendahuluan\n",
        "\n",
        "Data Science tak akan lepas dari Matematika. Pada track python kali ini kita juga belajar berbagai macam operator matematika dalam python yang dapat membantu dalam belajar data science. Pada sesi kali ini, operator yang disajikan adalah operator operator dasar dan logika pada matematika. Pada dasarnya, setiap bahasa pemrograman akan memiliki operasi pengelolahan angka dan pembanding. Operator yang akan kita bahas kali ini adalah :\n",
        "\n",
        "Nama Operator | Logo Operator\n",
        ":--- | :---:\n",
        "Tambah | +\n",
        "Kurang | -\n",
        "Pembagi | /\n",
        "Perkalian | *\n",
        "Modulus | %\n",
        "Kurang dari | < \n",
        "Lebih dari | > \n",
        "Kurang dari sama dengan | <=\n",
        "Lebih dari sama dengan | >=\n",
        "Sama dengan | ="
      ]
    },
    {
      "cell_type": "markdown",
      "metadata": {
        "id": "SPse_TUbuf2g"
      },
      "source": [
        "### Praktek Operasi Matematika\n",
        "\n",
        "Pada praktek ini kita akan mencoba semua operator matematika. Praktek pada sesi kali ini akan menekankan bagaimana menggunakan operator langsung diimplementasikan dengan variable. Ketikan code di bawah ini pada editor:"
      ]
    },
    {
      "cell_type": "code",
      "metadata": {
        "id": "NRJwHsOcuf2g",
        "outputId": "cb167336-c0bf-41ca-c26a-d494f6218f0f"
      },
      "source": [
        "a=10\n",
        "b=5\n",
        "selisih = a-b\n",
        "jumlah = a+b\n",
        "kali = a*b\n",
        "bagi = a/b\n",
        "\n",
        "print(\"Hasil penjumlahan dan b adalah\", jumlah)\n",
        "print(\"Selisih a dan b adalah :\", selisih)\n",
        "print(\"Hasil perkalian a dan b adalah :\", kali)\n",
        "print(\"Hasil pembagian a dan b adalah:\", bagi)"
      ],
      "execution_count": null,
      "outputs": [
        {
          "output_type": "stream",
          "text": [
            "Hasil penjumlahan dan b adalah 15\n",
            "Selisih a dan b adalah : 5\n",
            "Hasil perkalian a dan b adalah : 50\n",
            "Hasil pembagian a dan b adalah: 2.0\n"
          ],
          "name": "stdout"
        }
      ]
    },
    {
      "cell_type": "markdown",
      "metadata": {
        "id": "fQKEBozLuf2j"
      },
      "source": [
        "### Operasi modulus\n",
        "\n",
        "Modulus memang jarang dipakai namun, dibeberapa kasus modulus sangat berguna untuk mempercepat proses perhitungan. Modulus sendiri merupakan fungsi yang akan menghitung sisa dari hasil pembagian. Untuk lebih jelasnya silahkan lakukan praktek di bawah ini :"
      ]
    },
    {
      "cell_type": "code",
      "metadata": {
        "id": "HcsSFae3uf2j",
        "outputId": "5e63249f-1f91-4940-812b-ac402e54da73"
      },
      "source": [
        "c=10\n",
        "d=5\n",
        "\n",
        "modulus=c%d\n",
        "print(\"Hasil modulus\",modulus)"
      ],
      "execution_count": null,
      "outputs": [
        {
          "output_type": "stream",
          "text": [
            "Hasil modulus 0\n"
          ],
          "name": "stdout"
        }
      ]
    },
    {
      "cell_type": "markdown",
      "metadata": {
        "id": "-zxqHSjZuf2l"
      },
      "source": [
        "Coba ubah nilai d dari 5 menjadi 3. Lalu RUN lagi code tersebut. Maka pasti akan keluar hasil:"
      ]
    },
    {
      "cell_type": "code",
      "metadata": {
        "id": "HQ02CEPkuf2l",
        "outputId": "36e0e6a5-6f70-4886-f2f6-6b9c62022245"
      },
      "source": [
        "c=10\n",
        "d=3\n",
        "\n",
        "modulus=c%d\n",
        "print(\"Hasil modulus\",modulus)"
      ],
      "execution_count": null,
      "outputs": [
        {
          "output_type": "stream",
          "text": [
            "Hasil modulus 1\n"
          ],
          "name": "stdout"
        }
      ]
    },
    {
      "cell_type": "markdown",
      "metadata": {
        "id": "pMKnCzkJuf2n"
      },
      "source": [
        "Kenapa bisa seperti itu? Prinsip modulus adalah dasarnya sebuah pembagian. Jika pembagi tidak bisa membagi habis angka yang dibagi maka. Fungsi modulus akan membagi hingga mendekati nilai yang dibagi namun tidak melebihi. Selisih dari angka yang mendekati dan angka yang dibagi nanti merupakan hasil modulus. Jika bisa dibagi habis seperti kasus pertama 10/5 maka modulus akan mengembalikan nilai 0."
      ]
    },
    {
      "cell_type": "markdown",
      "metadata": {
        "id": "99aPPPlruf2o"
      },
      "source": [
        "### Tugas Mid Praktek\n",
        "\n",
        "Buatlah sebuah program yang bisa menentukan suatu nilai pada variable itu genap atau ganjil! Lakukan percobaan dengan langkah berikut:\n",
        "\n",
        "1. Buat variabel dengan nama **“angka”** isi dengan nilai 10\n",
        "2. Ganti bagian […] dengan perhitungan untuk menentukan angka modulus 2 bernilai 0.\n",
        "\n",
        "Cek apakah benar dia bernilai **genap** maka keluarkan **\"angka termasuk bilangan genap\"**, jika sudah **ganti nilai variable angka dengan nilai 5** cek lagi apakah dia bernilai **ganjil** dan keluarkan **\"angka termasuk bilangan ganjil\"**."
      ]
    },
    {
      "cell_type": "code",
      "metadata": {
        "id": "fmalpYMZuf2o",
        "outputId": "1febfd59-2dd3-4eef-b0f9-548cd0f4d379"
      },
      "source": [
        "angka=10\n",
        "\n",
        "if(angka%2 == 0):\n",
        "    print(\"angka termasuk bilangan genap\")\n",
        "else:\n",
        "    print(\"angka termasuk bilangan ganjil\")"
      ],
      "execution_count": null,
      "outputs": [
        {
          "output_type": "stream",
          "text": [
            "angka termasuk bilangan genap\n"
          ],
          "name": "stdout"
        }
      ]
    },
    {
      "cell_type": "code",
      "metadata": {
        "id": "JTTXLE2Auf2q",
        "outputId": "eff19f00-00f6-45f2-ad63-cf0663bd6807"
      },
      "source": [
        "angka=5\n",
        "\n",
        "if(angka%2 == 0):\n",
        "    print(\"angka termasuk bilangan genap\")\n",
        "else:\n",
        "    print(\"angka termasuk bilangan ganjil\")"
      ],
      "execution_count": null,
      "outputs": [
        {
          "output_type": "stream",
          "text": [
            "angka termasuk bilangan ganjil\n"
          ],
          "name": "stdout"
        }
      ]
    },
    {
      "cell_type": "markdown",
      "metadata": {
        "id": "-4r9ZXsduf2s"
      },
      "source": [
        "## Perulangan\n",
        "\n",
        "Mengetahui tentang perulangan pada Python"
      ]
    },
    {
      "cell_type": "markdown",
      "metadata": {
        "id": "CYDLdhsWuf2s"
      },
      "source": [
        "### Pendahuluan\n",
        "\n",
        "Perulangan atau looping merupakan salah satu elemen atau fungsi yang bisa dikatakan sangat menunjang untuk kebutuhan programming dan data science. Tidak mungkin jika kita harus memproses 1000x eksekusi code, kita harus menulis ulang kode tersebut sebanyak 1000x juga. Selain tidak bersifat scalable, efisiensi akan mempengaruhi performa dari program yang kita buat. Seperti pada umumnya pada python juga memiliki fungsi for dan while untuk melakukan looping. Logikanya hampir sama, namun hanya berbeda dalam penulisannya jika Anda sudah terbiasa dengan C ataupun Java."
      ]
    },
    {
      "cell_type": "markdown",
      "metadata": {
        "id": "TOfgrfciuf2t"
      },
      "source": [
        "### while\n",
        "\n",
        "Struktur while pada python tidak berbeda jauh dengan bahasa pemrograman lainnya. Lebih sederhananya struktur penulisan python membuat dia mudah untuk dibaca. Ketikan kode di bawah ini :"
      ]
    },
    {
      "cell_type": "code",
      "metadata": {
        "id": "lYBvFau9uf2t",
        "outputId": "ad4f556b-4f56-40a9-cc3e-d75f39518ca0"
      },
      "source": [
        "j = 0                                         #nilai awal j =0\n",
        "\n",
        "while j<6:                                    #ketika j kurang dari 6 lakukan perulangan, jika tidak stop perulangan\n",
        "    print(\"Ini adalah perulangan ke -\",j)     #lakukan perintah ini ketika perulangan\n",
        "    j=j+1                                     #setiap kali diakhir perulangan update nilai dengan ditambah 1."
      ],
      "execution_count": null,
      "outputs": [
        {
          "output_type": "stream",
          "text": [
            "Ini adalah perulangan ke - 0\n",
            "Ini adalah perulangan ke - 1\n",
            "Ini adalah perulangan ke - 2\n",
            "Ini adalah perulangan ke - 3\n",
            "Ini adalah perulangan ke - 4\n",
            "Ini adalah perulangan ke - 5\n"
          ],
          "name": "stdout"
        }
      ]
    },
    {
      "cell_type": "markdown",
      "metadata": {
        "id": "wEGLQAE_uf2w"
      },
      "source": [
        "### for (1)\n",
        "\n",
        "Struktur looping for pada python berbeda dengan struktur for pada umumnya. Pastikan untuk diperhatikan dengan baik. Ketikan code di bawah ini :"
      ]
    },
    {
      "cell_type": "code",
      "metadata": {
        "id": "JiZhhJi_uf2w",
        "outputId": "b621753f-5e74-46ff-a9d9-9e7481a1c8ee"
      },
      "source": [
        "for i in range (1,6):                         #perulangan for sebagai inisialisasi dari angka 1 hingga angka yang lebih kecil daripada 6.\n",
        "    print(\"Ini adalah perulangan ke -\", i)    #perintah jika looping akan tetap berjalan"
      ],
      "execution_count": null,
      "outputs": [
        {
          "output_type": "stream",
          "text": [
            "Ini adalah perulangan ke - 1\n",
            "Ini adalah perulangan ke - 2\n",
            "Ini adalah perulangan ke - 3\n",
            "Ini adalah perulangan ke - 4\n",
            "Ini adalah perulangan ke - 5\n"
          ],
          "name": "stdout"
        }
      ]
    },
    {
      "cell_type": "markdown",
      "metadata": {
        "id": "MHS_SznFuf2y"
      },
      "source": [
        "**Penjelasan** :\n",
        "\n",
        "Maksud dari fungsi ini **for i in range (1,6)**: jika kita konversi pada JAVA atau C sama dengan **for(i=1;i<6i++)**. Jika dikonversi menjadi kalimat adalah “perulangan dimulai dari nilai i = 1 hingga nilai i kurang dari 6 dimana setiap kali perulangan nilai i akan selalu ditambah 1”. Jika nilai i sudah mencapai 6 perulangan akan dihentikan."
      ]
    },
    {
      "cell_type": "markdown",
      "metadata": {
        "id": "Aqnb-vm0uf2z"
      },
      "source": [
        "### for (2) with access element\n",
        "\n",
        "Keunikan lain dari looping dengan python adalah selain bahasa yang mudah dimengerti dalam looping, kita juga bisa mengakses elemen yang terdapat pada sebuah list. Berikut ini contohnya :"
      ]
    },
    {
      "cell_type": "code",
      "metadata": {
        "id": "4yJJARpXuf2z",
        "outputId": "648bb8e6-c4fe-4b67-fe24-81f64d1944e7"
      },
      "source": [
        "count=[1,2,3,4,5]                                   #elemen list\n",
        "\n",
        "for number in count:                                #looping untuk menampilkan semua elemen pada count\n",
        "    print(\"Ini adalah element count : \", number)    #menampilkan elemen list pada count"
      ],
      "execution_count": null,
      "outputs": [
        {
          "output_type": "stream",
          "text": [
            "Ini adalah element count :  1\n",
            "Ini adalah element count :  2\n",
            "Ini adalah element count :  3\n",
            "Ini adalah element count :  4\n",
            "Ini adalah element count :  5\n"
          ],
          "name": "stdout"
        }
      ]
    },
    {
      "cell_type": "markdown",
      "metadata": {
        "id": "httUpnm6uf21"
      },
      "source": [
        "**Tugas Praktek**\n",
        "\n",
        "1. Buatlah sebuah program yang bisa mengeluarkan angka 1 sampai 10.\n",
        "2. Tampilan akan menunjukan \"Angka ganjil 1\" untuk angka ganjil dan \"Angka genap 2\" untuk angka genap. (Menggunakan looping for)"
      ]
    },
    {
      "cell_type": "code",
      "metadata": {
        "id": "8GnCgSVEuf22",
        "outputId": "827592f5-68f0-400c-9423-c603a725d42a"
      },
      "source": [
        "for i in range (1,11):\n",
        "    if(i%2 == 0):\n",
        "        print(\"Angka genap\",i)\n",
        "    else:\n",
        "         print(\"Angka ganjil\",i)"
      ],
      "execution_count": null,
      "outputs": [
        {
          "output_type": "stream",
          "text": [
            "Angka ganjil 1\n",
            "Angka genap 2\n",
            "Angka ganjil 3\n",
            "Angka genap 4\n",
            "Angka ganjil 5\n",
            "Angka genap 6\n",
            "Angka ganjil 7\n",
            "Angka genap 8\n",
            "Angka ganjil 9\n",
            "Angka genap 10\n"
          ],
          "name": "stdout"
        }
      ]
    },
    {
      "cell_type": "markdown",
      "metadata": {
        "id": "euePSg6kuf24"
      },
      "source": [
        "## Function\n",
        "\n",
        "Cara Menggunakan dan Memanggil Function dalam Python"
      ]
    },
    {
      "cell_type": "markdown",
      "metadata": {
        "id": "UcLvg-c5uf24"
      },
      "source": [
        "### Pendahuluan\n",
        "\n",
        "Pada pembuatan program yang kompleks dan memiliki banyak fitur, kita diharuskan menggunakan fungsi. Kenapa memangnya kalau tidak menggunakan fungsi? Bisa jadi kita akan kerepotan menulis kode programnya, karena banyak yang harus ditulis dan kode akan menjadi sulit dibaca dan dirawat (maintenance). Dengan fungsi, kita dapat memecah program besar menjadi sub program yang lebih sederhana. Masing-masing fitur pada program dapat kita buat dalam satu fungsi. Pada saat kita membutuhkan fitur tersebut, kita tinggal panggil fungsinya saja."
      ]
    },
    {
      "cell_type": "markdown",
      "metadata": {
        "id": "gOiOV7Truf24"
      },
      "source": [
        "### Membuat fungsi sendiri\n",
        "\n",
        "Fungsi pada Python, dibuat dengan kata kunci def  kemudian diikuti dengan nama fungsinya. Contoh :\n",
        "\n",
        "```\n",
        "def nama_fungsi():\n",
        "    print (\"Hello ini Fungsi\")\n",
        "```\n",
        "\n",
        "Sama seperti blok kode yang lain, kita juga harus memberikan indentasi (tab atau spasi 2x) untuk menuliskan isi fungsi.\n",
        "\n",
        "![](https://github.com/MyArist/DQLab/blob/master/Learn/Python/Preliminary/Python%20Fundamental%20for%20Data%20Science/Picts/funct.png?raw=1)\n",
        "\n",
        "Cara untuk memanggil fungsinya cukup sederhana. Cukup seperti ini:\n",
        "\n",
        "`nama_fungsi()`\n",
        " \n",
        "Sebagai contoh full code bisa Anda coba ketikkan code di bawah ini :"
      ]
    },
    {
      "cell_type": "code",
      "metadata": {
        "id": "7IjsJ6ryuf25"
      },
      "source": [
        ""
      ],
      "execution_count": null,
      "outputs": []
    },
    {
      "cell_type": "code",
      "metadata": {
        "id": "A_SAnv1_uf27",
        "outputId": "5465b494-21f9-45ca-db53-e303d7c25920"
      },
      "source": [
        "# Membuat Fungsi\n",
        "def salam():\n",
        "    print(\"Hello, Selamat Pagi\")\n",
        "\n",
        "## Pemanggilan Fungsi\n",
        "salam()"
      ],
      "execution_count": null,
      "outputs": [
        {
          "output_type": "stream",
          "text": [
            "Hello, Selamat Pagi\n"
          ],
          "name": "stdout"
        }
      ]
    },
    {
      "cell_type": "markdown",
      "metadata": {
        "id": "UmKcIplQuf29"
      },
      "source": [
        "### Parameter pada fungsi\n",
        "\n",
        "Sekarang, bagaimana kalau kita ingin memberikan input nilai ke dalam fungsi? Kita bisa menggunakan parameter. Parameter adalah variabel yang menampung nilai untuk diproses kedalam suatu fungsi.\n",
        "\n",
        "![](https://github.com/MyArist/DQLab/blob/master/Learn/Python/Preliminary/Python%20Fundamental%20for%20Data%20Science/Picts/param.png?raw=1)\n",
        "\n",
        "Pada contoh kali ini untuk mempermudah pembelajaran telah disediakan rumusan matematika untuk menghitung luas pada segitiga. Berikut ini contoh kodenya:"
      ]
    },
    {
      "cell_type": "code",
      "metadata": {
        "id": "Spefpme4uf2-",
        "outputId": "bd053c7a-f8c0-42e6-a5ed-431bd57d7416"
      },
      "source": [
        "def luas_segitiga(alas, tinggi): #alas dan tinggi merupakan parameter yang masuk\n",
        "    luas = (alas * tinggi) / 2\n",
        "    print(\"Luas segitiga: %f\" % luas);\n",
        "\n",
        "# Pemanggilan fungsi\n",
        "##4 dan 6 merupakan parameter yang diinputkan kedalam fungsi luas segitiga\n",
        "luas_segitiga(4, 6) "
      ],
      "execution_count": null,
      "outputs": [
        {
          "output_type": "stream",
          "text": [
            "Luas segitiga: 12.000000\n"
          ],
          "name": "stdout"
        }
      ]
    },
    {
      "cell_type": "markdown",
      "metadata": {
        "id": "zdgOJzVvuf3B"
      },
      "source": [
        "### Fungsi dengan Return Value\n",
        "\n",
        "Fungsi yang tidak mengembalikan nilai biasanya disebut dengan prosedur. Namun, kadang kita butuh hasil proses dari fungsi untuk digunakan pada proses berikutnya. Maka fungsi harus mengembalikan nilai dari hasil pemrosesannya. Cara mengembalikan nilai adalah menggunakan kata kunci return lalu diikuti dengan nilai atau variabel yang akan dikembalikan.\n",
        "\n",
        "![](https://github.com/MyArist/DQLab/blob/master/Learn/Python/Preliminary/Python%20Fundamental%20for%20Data%20Science/Picts/return.png?raw=1)\n",
        "\n",
        "Meneruskan kembali di poin sebelumnya. Untuk fungsi luas segitiga yang sudah dibuat, mari tambahkan return value sehingga menjadi seperti ini:"
      ]
    },
    {
      "cell_type": "code",
      "metadata": {
        "id": "LvyiKv-Kuf3B",
        "outputId": "72126163-fd3b-468b-a41c-6bd0bb691a36"
      },
      "source": [
        "def luas_segitiga(alas, tinggi): #alas dan tinggi merupakan parameter yang masuk\n",
        "    luas = (alas * tinggi) / 2\n",
        "    return luas\n",
        "\n",
        "\n",
        "# Pemanggilan fungsi\n",
        "##4 dan 6 merupakan parameter yang diinputkan kedalam fungsi luas segitiga \n",
        "print(\"Luas segitiga: %d\" % luas_segitiga(4, 6))"
      ],
      "execution_count": null,
      "outputs": [
        {
          "output_type": "stream",
          "text": [
            "Luas segitiga: 12\n"
          ],
          "name": "stdout"
        }
      ]
    },
    {
      "cell_type": "markdown",
      "metadata": {
        "id": "t-4dHhafuf3F"
      },
      "source": [
        "## Modul dan Package\n",
        "\n",
        "Cara Melakukan Import Package dan Memanggil Modul dalam Python"
      ]
    },
    {
      "cell_type": "markdown",
      "metadata": {
        "id": "Neiy7iUjuf3F"
      },
      "source": [
        "### Pendahuluan\n",
        "\n",
        "Modul memungkinkan Anda mengatur kode Python secara logis. Mengelompokkan kode terkait ke dalam modul membuat kode lebih mudah dipahami dan digunakan. Modul adalah objek Python dengan atribut yang diberi nama yang bisa Anda tambahkan dan dijadikan referensi dalam membantu dalam proses pembuatan program. Secara sederhana, modul adalah file yang terdiri dari kode Python. Modul dapat mendefinisikan fungsi, kelas, dan variabel. Python sendiri sudah memiliki banyak library dan module yang bisa diakses oleh pengguna secara free."
      ]
    },
    {
      "cell_type": "markdown",
      "metadata": {
        "id": "95Kyko74uf3G"
      },
      "source": [
        "### Import Package dan Menggunakan modul\n",
        "\n",
        "Pada sesi kali ini, praktek akan menggunakan module math yang merupakan module standar untuk operasi matematika. Berikut ini contohnya :\n",
        "\n",
        "`import math`\n",
        "\n",
        "Cara menggunakan module cukup sederhana. Module sendiri berisi fungsi-fungsi. Cara orang melakukan akses kedalam fungsi juga berbeda. Coba lihat dan implementasikan kode di bawah ini :"
      ]
    },
    {
      "cell_type": "code",
      "metadata": {
        "id": "v-_QUj7Vuf3G",
        "outputId": "a828f9d6-7c31-4f1e-af5d-e29ccf6e81bc"
      },
      "source": [
        "import math\n",
        "print(\"Nilai pi adalah:\", math.pi) # math.pi merupakan sintak untuk memanggil fungsi"
      ],
      "execution_count": null,
      "outputs": [
        {
          "output_type": "stream",
          "text": [
            "Nilai pi adalah: 3.141592653589793\n"
          ],
          "name": "stdout"
        }
      ]
    },
    {
      "cell_type": "markdown",
      "metadata": {
        "id": "j-ktEtXUuf3K"
      },
      "source": [
        "### Import dengan Module Rename atau Alias\n",
        "\n",
        "Kita bisa mengimpor modul dengan menamainya. Hal ini biasanya kita lakukan untuk menyingkat nama modul yang panjang."
      ]
    },
    {
      "cell_type": "code",
      "metadata": {
        "id": "9ZTHoq9Buf3K",
        "outputId": "2b9d34f1-e84a-414e-99e9-b20a8d99b583"
      },
      "source": [
        "import math as m                #menggunakan m sebagai module rename atau alias\n",
        "print(\"Nilai pi adalah:\", m.pi) #m.pi merupakan sintak untuk memanggil fungsi"
      ],
      "execution_count": null,
      "outputs": [
        {
          "output_type": "stream",
          "text": [
            "Nilai pi adalah: 3.141592653589793\n"
          ],
          "name": "stdout"
        }
      ]
    },
    {
      "cell_type": "markdown",
      "metadata": {
        "id": "uYJnkU-Wuf3N"
      },
      "source": [
        "### Import Sebagian Fungsi\n",
        "\n",
        "Pada suatu module tidak bisa dipungkiri terdiri dari puluhan bahkan ribuan fungsi. Namun, yang kita butuhkan hanya 1 atau 2 fungsi saja. Untuk meminimalisir ketidakefisienan suatu program dalam load suatu module bisa dilakukan import module namun hanya beberapa fungsi saja yang kita import kedalam code. Format (from module_name import function_name)"
      ]
    },
    {
      "cell_type": "code",
      "metadata": {
        "id": "ZPEvvCyJuf3N",
        "outputId": "9161c9d7-d8b7-475b-fa28-6d2a62c6b48d"
      },
      "source": [
        "from math import pi\n",
        "\n",
        "print(\"Nilai pi adalah\", pi)"
      ],
      "execution_count": null,
      "outputs": [
        {
          "output_type": "stream",
          "text": [
            "Nilai pi adalah 3.141592653589793\n"
          ],
          "name": "stdout"
        }
      ]
    },
    {
      "cell_type": "markdown",
      "metadata": {
        "id": "LrwuNCSCuf3P"
      },
      "source": [
        "### Import Semua isi Moduls\n",
        "\n",
        "Namun, jika memang yang dibutuhkan banyak, semisal lebih dari 10 atau bahkan ratusan fungsi, bisa dilakukan import semuanya dengan menggunakan format from module_name import *. Tanda * disini menunjukan semua fungsi diimport kedalam code."
      ]
    },
    {
      "cell_type": "code",
      "metadata": {
        "id": "5U7W7xYouf3Q",
        "outputId": "f505cfb1-b24d-4178-b76c-ccfd2463f023"
      },
      "source": [
        "from math import *\n",
        "\n",
        "print(\"Nilai e adalah:\", e)"
      ],
      "execution_count": null,
      "outputs": [
        {
          "output_type": "stream",
          "text": [
            "Nilai e adalah: 2.718281828459045\n"
          ],
          "name": "stdout"
        }
      ]
    },
    {
      "cell_type": "markdown",
      "metadata": {
        "id": "715Cte-Cuf3S"
      },
      "source": [
        "## Membaca dari File\n",
        "\n",
        "Melakukan Pembacaan File dalam Python"
      ]
    },
    {
      "cell_type": "markdown",
      "metadata": {
        "id": "z-1z2LAOuf3S"
      },
      "source": [
        "### Pendahuluan\n",
        "\n",
        "CSV atau comma separated value adalah salah satu tipe file yang digunakan secara luas di dunia programming. Tidak hanya itu CSV pun sering digunakan dalam pengolahan informasi yang dihasilkan spreadsheet untuk diproses lebih lanjut melalui mesin analitik. CSV pun dianggap sebagai file yang agnostik karena dapat digunakan oleh berbagai database untuk proses backup data. CSV dianggap sebagai salah satu tipe data yang sering dipakai untuk mengelola data pada proses lanjutan."
      ]
    },
    {
      "cell_type": "markdown",
      "metadata": {
        "id": "1ZTf1AnQuf3T"
      },
      "source": [
        "### Membaca Teks File (CSV)\n",
        "\n",
        "Sekarang kita akan mencoba membaca sebuah file CSV yang telah dihasilkan aplikasi atau program lain. Di Python, hasil pembacaan setiap baris pada file CSV akan dikonversi menjadi list Python.\n",
        "\n",
        "Berikut adalah contoh kode untuk membaca file CSV dengan kasus yang sangat sederhana, coba ketik kode di bawah ini pada Code Editor:"
      ]
    },
    {
      "cell_type": "code",
      "metadata": {
        "id": "Zs5HZbAvuf3T",
        "outputId": "f1018e46-3479-407c-e608-f2de74381f64"
      },
      "source": [
        "import csv\n",
        "\n",
        "# tentukan lokasi file, nama file, dan inisialisasi csv\n",
        "f = open('penduduk_gender_head.csv', 'r')\n",
        "reader = csv.reader(f)\n",
        "\n",
        "# membaca baris per baris\n",
        "for row in reader:\n",
        "     print (row)\n",
        "\n",
        "# menutup file csv\n",
        "f.close()"
      ],
      "execution_count": null,
      "outputs": [
        {
          "output_type": "stream",
          "text": [
            "['TAHUN', 'NAMA PROVINSI', 'NAMA KABUPATEN/KOTA', 'NAMA KECAMATAN', 'NAMA KELURAHAN', 'LAKI-LAKI WNI', 'PEREMPUAN WNI', 'LAKI-LAKI WNA', 'PEREMPUAN WNA', '', '', '', '', '', '', '', '', '']\n",
            "['2013', 'PROVINSI DKI JAKARTA', 'JAKARTA PUSAT', 'GAMBIR', 'GAMBIR', '1790', '1690', '1', '2', '', '', '', '', '', '', '', '', '']\n",
            "['2013', 'PROVINSI DKI JAKARTA', 'JAKARTA PUSAT', 'GAMBIR', 'CIDENG', '9159', '9206', '5', '6', '', '', '', '', '', '', '', '', '']\n",
            "['2013', 'PROVINSI DKI JAKARTA', 'JAKARTA PUSAT', 'GAMBIR', 'PETOJO UTARA', '10811', '10436', '10', '8', '', '', '', '', '', '', '', '', '']\n",
            "['2013', 'PROVINSI DKI JAKARTA', 'JAKARTA PUSAT', 'GAMBIR', 'PETOJO SELATAN', '8455', '8023', '5', '7', '', '', '', '', '', '', '', '', '']\n",
            "['2013', 'PROVINSI DKI JAKARTA', 'JAKARTA PUSAT', 'GAMBIR', 'KEBON KELAPA', '6300', '6078', '6', '10', '', '', '', '', '', '', '', '', '']\n",
            "['2013', 'PROVINSI DKI JAKARTA', 'JAKARTA PUSAT', 'GAMBIR', 'DURI PULO', '13056', '12588', '2', '6', '', '', '', '', '', '', '', '', '']\n",
            "['2013', 'PROVINSI DKI JAKARTA', 'JAKARTA PUSAT', 'SAWAH BESAR', 'PASAR BARU', '7557', '7552', '34', '55', '', '', '', '', '', '', '', '', '']\n",
            "['2013', 'PROVINSI DKI JAKARTA', 'JAKARTA PUSAT', 'SAWAH BESAR', 'KARANG ANYAR', '16327', '15859', '4', '2', '', '', '', '', '', '', '', '', '']\n",
            "['2013', 'PROVINSI DKI JAKARTA', 'JAKARTA PUSAT', 'SAWAH BESAR', 'KARTINI', '13610', '13808', '3', '3', '', '', '', '', '', '', '', '', '']\n",
            "['2013', 'PROVINSI DKI JAKARTA', 'JAKARTA PUSAT', 'SAWAH BESAR', 'GUNUNG SAHARI UTARA', '9734', '9889', '15', '30', '', '', '', '', '', '', '', '', '']\n",
            "['2013', 'PROVINSI DKI JAKARTA', 'JAKARTA PUSAT', 'SAWAH BESAR', 'MANGGA DUA SELATAN', '17269', '16458', '42', '33', '', '', '', '', '', '', '', '', '']\n",
            "['2013', 'PROVINSI DKI JAKARTA', 'JAKARTA PUSAT', 'KEMAYORAN', 'KEMAYORAN', '12365', '11932', '6', '8', '', '', '', '', '', '', '', '', '']\n",
            "['2013', 'PROVINSI DKI JAKARTA', 'JAKARTA PUSAT', 'KEMAYORAN', 'KEBON KOSONG', '15933', '15665', '33', '25', '', '', '', '', '', '', '', '', '']\n",
            "['2013', 'PROVINSI DKI JAKARTA', 'JAKARTA PUSAT', 'KEMAYORAN', 'HARAPAN MULIA', '13523', '13049', '2', '3', '', '', '', '', '', '', '', '', '']\n",
            "['2013', 'PROVINSI DKI JAKARTA', 'JAKARTA PUSAT', 'KEMAYORAN', 'SERDANG', '17284', '17020', '1', '1', '', '', '', '', '', '', '', '', '']\n",
            "['2013', 'PROVINSI DKI JAKARTA', 'JAKARTA PUSAT', 'KEMAYORAN', 'GUNUNG SAHARI SELATAN', '11730', '11487', '13', '15', '', '', '', '', '', '', '', '', '']\n",
            "['2013', 'PROVINSI DKI JAKARTA', 'JAKARTA PUSAT', 'KEMAYORAN', 'CEMPAKA BARU', '19103', '18601', '', '3', '', '', '', '', '', '', '', '', '']\n",
            "['2013', 'PROVINSI DKI JAKARTA', 'JAKARTA PUSAT', 'KEMAYORAN', 'SUMUR BATU', '13441', '13288', '20', '13', '', '', '', '', '', '', '', '', '']\n",
            "['2013', 'PROVINSI DKI JAKARTA', 'JAKARTA PUSAT', 'KEMAYORAN', 'UTAN PANJANG', '17125', '16351', '4', '3', '', '', '', '', '', '', '', '', '']\n",
            "['2013', 'PROVINSI DKI JAKARTA', 'JAKARTA PUSAT', 'SENEN', 'SENEN', '4236', '3975', '10', '7', '', '', '', '', '', '', '', '', '']\n",
            "['2013', 'PROVINSI DKI JAKARTA', 'JAKARTA PUSAT', 'SENEN', 'KENARI', '5445', '5252', '2', '', '', '', '', '', '', '', '', '', '']\n",
            "['2013', 'PROVINSI DKI JAKARTA', 'JAKARTA PUSAT', 'SENEN', 'PASEBAN', '13787', '13477', '', '', '', '', '', '', '', '', '', '', '']\n",
            "['2013', 'PROVINSI DKI JAKARTA', 'JAKARTA PUSAT', 'SENEN', 'KRAMAT', '17482', '16331', '2', '2', '', '', '', '', '', '', '', '', '']\n",
            "['2013', 'PROVINSI DKI JAKARTA', 'JAKARTA PUSAT', 'SENEN', 'KWITANG', '9176', '9148', '1', '1', '', '', '', '', '', '', '', '', '']\n",
            "['2013', 'PROVINSI DKI JAKARTA', 'JAKARTA PUSAT', 'SENEN', 'BUNGUR', '11200', '10849', '4', '3', '', '', '', '', '', '', '', '', '']\n",
            "['2013', 'PROVINSI DKI JAKARTA', 'JAKARTA PUSAT', 'CEMPAKA PUTIH', 'CEMPAKA PUTIH TIMUR', '13630', '13686', '24', '24', '', '', '', '', '', '', '', '', '']\n",
            "['2013', 'PROVINSI DKI JAKARTA', 'JAKARTA PUSAT', 'CEMPAKA PUTIH', 'CEMPAKA PUTIH BARAT', '20029', '19681', '12', '2', '', '', '', '', '', '', '', '', '']\n",
            "['2013', 'PROVINSI DKI JAKARTA', 'JAKARTA PUSAT', 'CEMPAKA PUTIH', 'RAWASARI', '12462', '12465', '1', '3', '', '', '', '', '', '', '', '', '']\n",
            "['2013', 'PROVINSI DKI JAKARTA', 'JAKARTA PUSAT', 'MENTENG', 'MENTENG', '14576', '14610', '7', '10', '', '', '', '', '', '', '', '', '']\n",
            "['2013', 'PROVINSI DKI JAKARTA', 'JAKARTA PUSAT', 'MENTENG', 'PEGANGSAAN', '13392', '13214', '2', '', '', '', '', '', '', '', '', '', '']\n",
            "['2013', 'PROVINSI DKI JAKARTA', 'JAKARTA PUSAT', 'MENTENG', 'CIKINI', '4825', '4772', '5', '1', '', '', '', '', '', '', '', '', '']\n",
            "['2013', 'PROVINSI DKI JAKARTA', 'JAKARTA PUSAT', 'MENTENG', 'GONDANGDIA', '2196', '2443', '11', '13', '', '', '', '', '', '', '', '', '']\n",
            "['2013', 'PROVINSI DKI JAKARTA', 'JAKARTA PUSAT', 'MENTENG', 'KEBON SIRIH', '7976', '7439', '2', '2', '', '', '', '', '', '', '', '', '']\n",
            "['2013', 'PROVINSI DKI JAKARTA', 'JAKARTA PUSAT', 'TANAH ABANG', 'GELORA', '1865', '1883', '6', '2', '', '', '', '', '', '', '', '', '']\n",
            "['2013', 'PROVINSI DKI JAKARTA', 'JAKARTA PUSAT', 'TANAH ABANG', 'BENDUNGAN HILIR', '12713', '12582', '11', '2', '', '', '', '', '', '', '', '', '']\n",
            "['2013', 'PROVINSI DKI JAKARTA', 'JAKARTA PUSAT', 'TANAH ABANG', 'KARET TENGSIN', '11002', '10271', '10', '3', '', '', '', '', '', '', '', '', '']\n",
            "['2013', 'PROVINSI DKI JAKARTA', 'JAKARTA PUSAT', 'TANAH ABANG', 'PETAMBURAN', '20112', '18794', '17', '13', '', '', '', '', '', '', '', '', '']\n",
            "['2013', 'PROVINSI DKI JAKARTA', 'JAKARTA PUSAT', 'TANAH ABANG', 'KEBON MELATI', '19826', '18672', '8', '4', '', '', '', '', '', '', '', '', '']\n",
            "['2013', 'PROVINSI DKI JAKARTA', 'JAKARTA PUSAT', 'TANAH ABANG', 'KEBON KACANG', '12873', '12357', '3', '4', '', '', '', '', '', '', '', '', '']\n",
            "['2013', 'PROVINSI DKI JAKARTA', 'JAKARTA PUSAT', 'TANAH ABANG', 'KAMPUNG BALI', '7348', '7205', '3', '1', '', '', '', '', '', '', '', '', '']\n",
            "['2013', 'PROVINSI DKI JAKARTA', 'JAKARTA PUSAT', 'JOHAR BARU', 'JOHAR BARU', '21016', '20953', '2', '', '', '', '', '', '', '', '', '', '']\n",
            "['2013', 'PROVINSI DKI JAKARTA', 'JAKARTA PUSAT', 'JOHAR BARU', 'KAMPUNG RAWA', '13337', '12499', '1', '', '', '', '', '', '', '', '', '', '']\n",
            "['2013', 'PROVINSI DKI JAKARTA', 'JAKARTA PUSAT', 'JOHAR BARU', 'GALUR', '11077', '10259', '', '', '', '', '', '', '', '', '', '', '']\n",
            "['2013', 'PROVINSI DKI JAKARTA', 'JAKARTA PUSAT', 'JOHAR BARU', 'TANAH TINGGI', '22680', '21450', '', '', '', '', '', '', '', '', '', '', '']\n"
          ],
          "name": "stdout"
        }
      ]
    },
    {
      "cell_type": "markdown",
      "metadata": {
        "id": "k7ufKTs4uf3Y"
      },
      "source": [
        "### Membaca file CSV dengan menggunakan PANDAS\n",
        "\n",
        "Bagi yang belum familiar, PANDAS merupakan salah satu library yang sangat sering digunakan untuk aplikasi dan implementasi data science. Baik untuk data manipulation, data pre-processing, atau data wrangling. Pada sesi kali ini, kita akan menggunakan PANDAS untuk membaca file dari csv.\n",
        "\n",
        "Cobalah ketik code di bawah ini:"
      ]
    },
    {
      "cell_type": "code",
      "metadata": {
        "scrolled": false,
        "id": "BDgC_57Zuf3Y",
        "outputId": "783b8b26-968d-4f0a-dd0a-acdc54c1dc7b"
      },
      "source": [
        "import pandas as pd\n",
        "\n",
        "table = pd.read_csv(\"https://academy.dqlab.id/dataset/penduduk_gender_head.csv\")\n",
        "table.head()\n",
        "print(table)"
      ],
      "execution_count": null,
      "outputs": [
        {
          "output_type": "stream",
          "text": [
            "    TAHUN         NAMA PROVINSI NAMA KABUPATEN/KOTA NAMA KECAMATAN  \\\n",
            "0    2013  PROVINSI DKI JAKARTA       JAKARTA PUSAT         GAMBIR   \n",
            "1    2013  PROVINSI DKI JAKARTA       JAKARTA PUSAT         GAMBIR   \n",
            "2    2013  PROVINSI DKI JAKARTA       JAKARTA PUSAT         GAMBIR   \n",
            "3    2013  PROVINSI DKI JAKARTA       JAKARTA PUSAT         GAMBIR   \n",
            "4    2013  PROVINSI DKI JAKARTA       JAKARTA PUSAT         GAMBIR   \n",
            "5    2013  PROVINSI DKI JAKARTA       JAKARTA PUSAT         GAMBIR   \n",
            "6    2013  PROVINSI DKI JAKARTA       JAKARTA PUSAT    SAWAH BESAR   \n",
            "7    2013  PROVINSI DKI JAKARTA       JAKARTA PUSAT    SAWAH BESAR   \n",
            "8    2013  PROVINSI DKI JAKARTA       JAKARTA PUSAT    SAWAH BESAR   \n",
            "9    2013  PROVINSI DKI JAKARTA       JAKARTA PUSAT    SAWAH BESAR   \n",
            "10   2013  PROVINSI DKI JAKARTA       JAKARTA PUSAT    SAWAH BESAR   \n",
            "11   2013  PROVINSI DKI JAKARTA       JAKARTA PUSAT      KEMAYORAN   \n",
            "12   2013  PROVINSI DKI JAKARTA       JAKARTA PUSAT      KEMAYORAN   \n",
            "13   2013  PROVINSI DKI JAKARTA       JAKARTA PUSAT      KEMAYORAN   \n",
            "14   2013  PROVINSI DKI JAKARTA       JAKARTA PUSAT      KEMAYORAN   \n",
            "15   2013  PROVINSI DKI JAKARTA       JAKARTA PUSAT      KEMAYORAN   \n",
            "16   2013  PROVINSI DKI JAKARTA       JAKARTA PUSAT      KEMAYORAN   \n",
            "17   2013  PROVINSI DKI JAKARTA       JAKARTA PUSAT      KEMAYORAN   \n",
            "18   2013  PROVINSI DKI JAKARTA       JAKARTA PUSAT      KEMAYORAN   \n",
            "19   2013  PROVINSI DKI JAKARTA       JAKARTA PUSAT          SENEN   \n",
            "20   2013  PROVINSI DKI JAKARTA       JAKARTA PUSAT          SENEN   \n",
            "21   2013  PROVINSI DKI JAKARTA       JAKARTA PUSAT          SENEN   \n",
            "22   2013  PROVINSI DKI JAKARTA       JAKARTA PUSAT          SENEN   \n",
            "23   2013  PROVINSI DKI JAKARTA       JAKARTA PUSAT          SENEN   \n",
            "24   2013  PROVINSI DKI JAKARTA       JAKARTA PUSAT          SENEN   \n",
            "25   2013  PROVINSI DKI JAKARTA       JAKARTA PUSAT  CEMPAKA PUTIH   \n",
            "26   2013  PROVINSI DKI JAKARTA       JAKARTA PUSAT  CEMPAKA PUTIH   \n",
            "27   2013  PROVINSI DKI JAKARTA       JAKARTA PUSAT  CEMPAKA PUTIH   \n",
            "28   2013  PROVINSI DKI JAKARTA       JAKARTA PUSAT        MENTENG   \n",
            "29   2013  PROVINSI DKI JAKARTA       JAKARTA PUSAT        MENTENG   \n",
            "30   2013  PROVINSI DKI JAKARTA       JAKARTA PUSAT        MENTENG   \n",
            "31   2013  PROVINSI DKI JAKARTA       JAKARTA PUSAT        MENTENG   \n",
            "32   2013  PROVINSI DKI JAKARTA       JAKARTA PUSAT        MENTENG   \n",
            "33   2013  PROVINSI DKI JAKARTA       JAKARTA PUSAT    TANAH ABANG   \n",
            "34   2013  PROVINSI DKI JAKARTA       JAKARTA PUSAT    TANAH ABANG   \n",
            "35   2013  PROVINSI DKI JAKARTA       JAKARTA PUSAT    TANAH ABANG   \n",
            "36   2013  PROVINSI DKI JAKARTA       JAKARTA PUSAT    TANAH ABANG   \n",
            "37   2013  PROVINSI DKI JAKARTA       JAKARTA PUSAT    TANAH ABANG   \n",
            "38   2013  PROVINSI DKI JAKARTA       JAKARTA PUSAT    TANAH ABANG   \n",
            "39   2013  PROVINSI DKI JAKARTA       JAKARTA PUSAT    TANAH ABANG   \n",
            "40   2013  PROVINSI DKI JAKARTA       JAKARTA PUSAT     JOHAR BARU   \n",
            "41   2013  PROVINSI DKI JAKARTA       JAKARTA PUSAT     JOHAR BARU   \n",
            "42   2013  PROVINSI DKI JAKARTA       JAKARTA PUSAT     JOHAR BARU   \n",
            "43   2013  PROVINSI DKI JAKARTA       JAKARTA PUSAT     JOHAR BARU   \n",
            "\n",
            "           NAMA KELURAHAN  LAKI-LAKI WNI  PEREMPUAN WNI  LAKI-LAKI WNA  \\\n",
            "0                  GAMBIR           1790           1690            1.0   \n",
            "1                  CIDENG           9159           9206            5.0   \n",
            "2            PETOJO UTARA          10811          10436           10.0   \n",
            "3          PETOJO SELATAN           8455           8023            5.0   \n",
            "4            KEBON KELAPA           6300           6078            6.0   \n",
            "5               DURI PULO          13056          12588            2.0   \n",
            "6              PASAR BARU           7557           7552           34.0   \n",
            "7            KARANG ANYAR          16327          15859            4.0   \n",
            "8                 KARTINI          13610          13808            3.0   \n",
            "9     GUNUNG SAHARI UTARA           9734           9889           15.0   \n",
            "10     MANGGA DUA SELATAN          17269          16458           42.0   \n",
            "11              KEMAYORAN          12365          11932            6.0   \n",
            "12           KEBON KOSONG          15933          15665           33.0   \n",
            "13          HARAPAN MULIA          13523          13049            2.0   \n",
            "14                SERDANG          17284          17020            1.0   \n",
            "15  GUNUNG SAHARI SELATAN          11730          11487           13.0   \n",
            "16           CEMPAKA BARU          19103          18601            NaN   \n",
            "17             SUMUR BATU          13441          13288           20.0   \n",
            "18           UTAN PANJANG          17125          16351            4.0   \n",
            "19                  SENEN           4236           3975           10.0   \n",
            "20                 KENARI           5445           5252            2.0   \n",
            "21                PASEBAN          13787          13477            NaN   \n",
            "22                 KRAMAT          17482          16331            2.0   \n",
            "23                KWITANG           9176           9148            1.0   \n",
            "24                 BUNGUR          11200          10849            4.0   \n",
            "25    CEMPAKA PUTIH TIMUR          13630          13686           24.0   \n",
            "26    CEMPAKA PUTIH BARAT          20029          19681           12.0   \n",
            "27               RAWASARI          12462          12465            1.0   \n",
            "28                MENTENG          14576          14610            7.0   \n",
            "29             PEGANGSAAN          13392          13214            2.0   \n",
            "30                 CIKINI           4825           4772            5.0   \n",
            "31             GONDANGDIA           2196           2443           11.0   \n",
            "32            KEBON SIRIH           7976           7439            2.0   \n",
            "33                 GELORA           1865           1883            6.0   \n",
            "34        BENDUNGAN HILIR          12713          12582           11.0   \n",
            "35          KARET TENGSIN          11002          10271           10.0   \n",
            "36             PETAMBURAN          20112          18794           17.0   \n",
            "37           KEBON MELATI          19826          18672            8.0   \n",
            "38           KEBON KACANG          12873          12357            3.0   \n",
            "39           KAMPUNG BALI           7348           7205            3.0   \n",
            "40             JOHAR BARU          21016          20953            2.0   \n",
            "41           KAMPUNG RAWA          13337          12499            1.0   \n",
            "42                  GALUR          11077          10259            NaN   \n",
            "43           TANAH TINGGI          22680          21450            NaN   \n",
            "\n",
            "    PEREMPUAN WNA  Unnamed: 9  Unnamed: 10  Unnamed: 11  Unnamed: 12  \\\n",
            "0             2.0         NaN          NaN          NaN          NaN   \n",
            "1             6.0         NaN          NaN          NaN          NaN   \n",
            "2             8.0         NaN          NaN          NaN          NaN   \n",
            "3             7.0         NaN          NaN          NaN          NaN   \n",
            "4            10.0         NaN          NaN          NaN          NaN   \n",
            "5             6.0         NaN          NaN          NaN          NaN   \n",
            "6            55.0         NaN          NaN          NaN          NaN   \n",
            "7             2.0         NaN          NaN          NaN          NaN   \n",
            "8             3.0         NaN          NaN          NaN          NaN   \n",
            "9            30.0         NaN          NaN          NaN          NaN   \n",
            "10           33.0         NaN          NaN          NaN          NaN   \n",
            "11            8.0         NaN          NaN          NaN          NaN   \n",
            "12           25.0         NaN          NaN          NaN          NaN   \n",
            "13            3.0         NaN          NaN          NaN          NaN   \n",
            "14            1.0         NaN          NaN          NaN          NaN   \n",
            "15           15.0         NaN          NaN          NaN          NaN   \n",
            "16            3.0         NaN          NaN          NaN          NaN   \n",
            "17           13.0         NaN          NaN          NaN          NaN   \n",
            "18            3.0         NaN          NaN          NaN          NaN   \n",
            "19            7.0         NaN          NaN          NaN          NaN   \n",
            "20            NaN         NaN          NaN          NaN          NaN   \n",
            "21            NaN         NaN          NaN          NaN          NaN   \n",
            "22            2.0         NaN          NaN          NaN          NaN   \n",
            "23            1.0         NaN          NaN          NaN          NaN   \n",
            "24            3.0         NaN          NaN          NaN          NaN   \n",
            "25           24.0         NaN          NaN          NaN          NaN   \n",
            "26            2.0         NaN          NaN          NaN          NaN   \n",
            "27            3.0         NaN          NaN          NaN          NaN   \n",
            "28           10.0         NaN          NaN          NaN          NaN   \n",
            "29            NaN         NaN          NaN          NaN          NaN   \n",
            "30            1.0         NaN          NaN          NaN          NaN   \n",
            "31           13.0         NaN          NaN          NaN          NaN   \n",
            "32            2.0         NaN          NaN          NaN          NaN   \n",
            "33            2.0         NaN          NaN          NaN          NaN   \n",
            "34            2.0         NaN          NaN          NaN          NaN   \n",
            "35            3.0         NaN          NaN          NaN          NaN   \n",
            "36           13.0         NaN          NaN          NaN          NaN   \n",
            "37            4.0         NaN          NaN          NaN          NaN   \n",
            "38            4.0         NaN          NaN          NaN          NaN   \n",
            "39            1.0         NaN          NaN          NaN          NaN   \n",
            "40            NaN         NaN          NaN          NaN          NaN   \n",
            "41            NaN         NaN          NaN          NaN          NaN   \n",
            "42            NaN         NaN          NaN          NaN          NaN   \n",
            "43            NaN         NaN          NaN          NaN          NaN   \n",
            "\n",
            "    Unnamed: 13  Unnamed: 14  Unnamed: 15  Unnamed: 16  Unnamed: 17  \n",
            "0           NaN          NaN          NaN          NaN          NaN  \n",
            "1           NaN          NaN          NaN          NaN          NaN  \n",
            "2           NaN          NaN          NaN          NaN          NaN  \n",
            "3           NaN          NaN          NaN          NaN          NaN  \n",
            "4           NaN          NaN          NaN          NaN          NaN  \n",
            "5           NaN          NaN          NaN          NaN          NaN  \n",
            "6           NaN          NaN          NaN          NaN          NaN  \n",
            "7           NaN          NaN          NaN          NaN          NaN  \n",
            "8           NaN          NaN          NaN          NaN          NaN  \n",
            "9           NaN          NaN          NaN          NaN          NaN  \n",
            "10          NaN          NaN          NaN          NaN          NaN  \n",
            "11          NaN          NaN          NaN          NaN          NaN  \n",
            "12          NaN          NaN          NaN          NaN          NaN  \n",
            "13          NaN          NaN          NaN          NaN          NaN  \n",
            "14          NaN          NaN          NaN          NaN          NaN  \n",
            "15          NaN          NaN          NaN          NaN          NaN  \n",
            "16          NaN          NaN          NaN          NaN          NaN  \n",
            "17          NaN          NaN          NaN          NaN          NaN  \n",
            "18          NaN          NaN          NaN          NaN          NaN  \n",
            "19          NaN          NaN          NaN          NaN          NaN  \n",
            "20          NaN          NaN          NaN          NaN          NaN  \n",
            "21          NaN          NaN          NaN          NaN          NaN  \n",
            "22          NaN          NaN          NaN          NaN          NaN  \n",
            "23          NaN          NaN          NaN          NaN          NaN  \n",
            "24          NaN          NaN          NaN          NaN          NaN  \n",
            "25          NaN          NaN          NaN          NaN          NaN  \n",
            "26          NaN          NaN          NaN          NaN          NaN  \n",
            "27          NaN          NaN          NaN          NaN          NaN  \n",
            "28          NaN          NaN          NaN          NaN          NaN  \n",
            "29          NaN          NaN          NaN          NaN          NaN  \n",
            "30          NaN          NaN          NaN          NaN          NaN  \n",
            "31          NaN          NaN          NaN          NaN          NaN  \n",
            "32          NaN          NaN          NaN          NaN          NaN  \n",
            "33          NaN          NaN          NaN          NaN          NaN  \n",
            "34          NaN          NaN          NaN          NaN          NaN  \n",
            "35          NaN          NaN          NaN          NaN          NaN  \n",
            "36          NaN          NaN          NaN          NaN          NaN  \n",
            "37          NaN          NaN          NaN          NaN          NaN  \n",
            "38          NaN          NaN          NaN          NaN          NaN  \n",
            "39          NaN          NaN          NaN          NaN          NaN  \n",
            "40          NaN          NaN          NaN          NaN          NaN  \n",
            "41          NaN          NaN          NaN          NaN          NaN  \n",
            "42          NaN          NaN          NaN          NaN          NaN  \n",
            "43          NaN          NaN          NaN          NaN          NaN  \n"
          ],
          "name": "stdout"
        }
      ]
    },
    {
      "cell_type": "markdown",
      "metadata": {
        "id": "Er5q69QVuf3b"
      },
      "source": [
        "## Grafik Dasar dengan Matplotlib\n",
        "\n",
        "Melakukan Generate Grafik dengan Matplotlib"
      ]
    },
    {
      "cell_type": "markdown",
      "metadata": {
        "id": "aJ9tIwamuf3b"
      },
      "source": [
        "### Pendahuluan\n",
        "\n",
        "Grafik merupakan salah satu perangkat visualisasi. Visualisasi sendiri sudah menjadi salah satu challenge atau poin penting dalam data science. Selain bisa mempermudah seseorang untuk memahami data, bagi para data scientist visualisasi bisa meningkatkan analisa atau memunculkan knowledge yang tidak sempat terekspose ketika tidak menggunakan visualisasi. Pada sesi kali ini, kita akan menggunakan matplotlib untuk melakukan visualisasi data yang sudah ada."
      ]
    },
    {
      "cell_type": "markdown",
      "metadata": {
        "id": "Xu2y5cOQuf3c"
      },
      "source": [
        "### Bar Chart\n",
        "\n",
        "Sebelum masuk pada membuat grafik bar, kita akan membahas library yang akan gunakan. Pada Python sangat banyak library untuk visualisasi. Salah satu yang paling sering digunakan adalah matplotlib karena memang sudah lama dan relatif stabil dalam perkembangannya. Maka dari itu, matplotlib dipilih untuk belajar visualisasi pada sesi kali ini. Matplotlib sendiri menyediakan banyak jenis grafik mulai dari scatter/plot, line, bar, dan lain-lain. Pada praktek ini, ada tambahan library selain dengan menggunakan matplotlib dan pandas, kita akan menggunakan numpy. Numpy sendiri pada praktek kali ini digunakan untuk melakukan manipulasi data dari csv untuk memudahkan visualisasi.\n",
        "\n",
        "Ketikan kode di bawah ini :"
      ]
    },
    {
      "cell_type": "code",
      "metadata": {
        "id": "Kp4K_Puruf3d",
        "outputId": "e64159c7-97de-444d-bc8d-b2e504d4ffda"
      },
      "source": [
        "import pandas as pd\n",
        "import numpy as np\n",
        "import matplotlib.pyplot as plt\n",
        "\n",
        "\n",
        "table = pd.read_csv(\"https://academy.dqlab.id/dataset/penduduk_gender_head.csv\")\n",
        "table.head()\n",
        "x_label = table['NAMA KELURAHAN']\n",
        "plt.bar(x=np.arange(len(x_label)),height=table['LAKI-LAKI WNI'])\n",
        "plt.show()"
      ],
      "execution_count": null,
      "outputs": [
        {
          "output_type": "display_data",
          "data": {
            "image/png": "[encoded data removed]",
            "text/plain": [
              "<Figure size 432x288 with 1 Axes>"
            ]
          },
          "metadata": {
            "tags": [],
            "needs_background": "light"
          }
        }
      ]
    },
    {
      "cell_type": "markdown",
      "metadata": {
        "id": "W5UWQuT9uf3f"
      },
      "source": [
        "### Parameter dalam Grafik (Memberikan Nilai Axis dari data CSV)\n",
        "\n",
        "Jika ditelisik lebih dalam pada CSV, disitu ada nama kelurahan yang merupakan variabel atau seharusnya menjadi nilai AXIS pada grafik ini. Di praktek kali ini, kita akan mencoba bagaimana menempatkan nama kelurahan pada grafik."
      ]
    },
    {
      "cell_type": "code",
      "metadata": {
        "id": "9XCshtW7uf3g",
        "outputId": "079f57ac-0917-47ed-d669-5d8e72c988a6"
      },
      "source": [
        "import pandas as pd\n",
        "import numpy as np\n",
        "import matplotlib.pyplot as plt\n",
        "\n",
        "table = pd.read_csv(\"https://academy.dqlab.id/dataset/penduduk_gender_head.csv\")\n",
        "table.head()\n",
        "\n",
        "x_label = table['NAMA KELURAHAN']\n",
        "plt.bar(x=np.arange(len(x_label)),height=table['LAKI-LAKI WNI'])\n",
        "plt.xticks(np.arange(len(x_label)), table['NAMA KELURAHAN'], rotation=30)\n",
        "plt.show()"
      ],
      "execution_count": null,
      "outputs": [
        {
          "output_type": "display_data",
          "data": {
            "image/png": "[encoded data removed]",
            "text/plain": [
              "<Figure size 432x288 with 1 Axes>"
            ]
          },
          "metadata": {
            "tags": [],
            "needs_background": "light"
          }
        }
      ]
    },
    {
      "cell_type": "markdown",
      "metadata": {
        "id": "xpShrgiauf3i"
      },
      "source": [
        "### Menambah Title dan Label pada Grafik\n",
        "\n",
        "Pada implementasi grafik, penting nyatanya untuk memberikan label pada AXIS dan Ordinat untuk menjelaskan maksud grafik. Pada Praktek kali ini, kita akan mencoba memberikan label dan title pada grafik yang telah dibuat sebelumnya.\n",
        "\n",
        "Cobalah ketika kode di bawah ini :"
      ]
    },
    {
      "cell_type": "code",
      "metadata": {
        "id": "UFuhR7vGuf3j",
        "outputId": "19a2ab3f-bbd8-4c65-ed57-252e0d2b58bc"
      },
      "source": [
        "import pandas as pd\n",
        "import numpy as np\n",
        "import matplotlib.pyplot as plt\n",
        "\n",
        "\n",
        "table = pd.read_csv(\"https://academy.dqlab.id/dataset/penduduk_gender_head.csv\")\n",
        "table.head()\n",
        "\n",
        "x_label = table['NAMA KELURAHAN']\n",
        "plt.bar(x=np.arange(len(x_label)),height=table['LAKI-LAKI WNI'])\n",
        "plt.xticks(np.arange(len(x_label)), table['NAMA KELURAHAN'], rotation=90)\n",
        "plt.xlabel('Keluarahan di Jakarta pusat')\n",
        "plt.ylabel('Jumlah Penduduk Laki - Laki')\n",
        "plt.title('Persebaran Jumlah Penduduk Laki- Laki di Jakarta Pusat')\n",
        "\n",
        "plt.show()"
      ],
      "execution_count": null,
      "outputs": [
        {
          "output_type": "display_data",
          "data": {
            "image/png": "[encoded data removed]",
            "text/plain": [
              "<Figure size 432x288 with 1 Axes>"
            ]
          },
          "metadata": {
            "tags": [],
            "needs_background": "light"
          }
        }
      ]
    },
    {
      "cell_type": "markdown",
      "metadata": {
        "id": "qyVxz4oYuf3n"
      },
      "source": [
        "### Penutup\n",
        "\n",
        "Mudah bukan? Setelah mempelajari basic Python ini, diharapkan yang sudah mengerjakan bisa mengerti fundamental dari programming python. Sedikit rangkuman, memang course ini selain mengajarkan basic rule dari python kita juga sedikit memberikan logic course didalamnya. Kita tahu bahwa Data Science, AI, ataupun Machine Learning sangat identik dengan programming. Basic Programming adalah pemahaman logic yang kuat. Harapannya dengan dikuatkan pondasi dalam course ini ke depannya dalam menghadapi course lain yang ada. Sudah memiliki pondasi dan bekal yang kuat, next kita akan menyajikan bagaimana bermain dan mengelola data dengan Python pada course Data Wrangling with Python. See You!"
      ]
    },
    {
      "cell_type": "markdown",
      "metadata": {
        "id": "fCl38_5nuf3n"
      },
      "source": [
        "## You Have Passed the Module\n",
        "\n",
        "![](https://github.com/MyArist/DQLab/blob/master/Learn/Python/Preliminary/Python%20Fundamental%20for%20Data%20Science/Picts/congratulations.png?raw=1)"
      ]
    }
  ]
}