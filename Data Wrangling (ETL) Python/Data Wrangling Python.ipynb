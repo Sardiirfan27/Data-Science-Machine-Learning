{
  "nbformat": 4,
  "nbformat_minor": 0,
  "metadata": {
    "kernelspec": {
      "display_name": "Python 3",
      "language": "python",
      "name": "python3"
    },
    "language_info": {
      "codemirror_mode": {
        "name": "ipython",
        "version": 3
      },
      "file_extension": ".py",
      "mimetype": "text/x-python",
      "name": "python",
      "nbconvert_exporter": "python",
      "pygments_lexer": "ipython3",
      "version": "3.7.6"
    },
    "colab": {
      "name": "Data Wrangling Python.ipynb",
      "provenance": [],
      "include_colab_link": true
    }
  },
  "cells": [
    {
      "cell_type": "markdown",
      "metadata": {
        "id": "view-in-github",
        "colab_type": "text"
      },
      "source": [
        "<a href=\"https://colab.research.google.com/github/MyArist/DQLab/blob/master/Learn/Python/Fundamental/Data%20Wrangling%20Python/Data%20Wrangling%20Python.ipynb\" target=\"_parent\"><img src=\"https://colab.research.google.com/assets/colab-badge.svg\" alt=\"Open In Colab\"/></a>"
      ]
    },
    {
      "cell_type": "markdown",
      "metadata": {
        "id": "cM7D07EDeeJJ",
        "colab_type": "text"
      },
      "source": [
        "# Data Wrangling Python\n",
        "\n",
        "Bagaimana cara melakukan data wrangling dengan menggunakan bahasa pemograman Python. Data Wrangling merupakan langkah penting untuk sebagai Data Science."
      ]
    },
    {
      "cell_type": "markdown",
      "metadata": {
        "id": "Xrf882SteeJK",
        "colab_type": "text"
      },
      "source": [
        "## Cara Membaca Data Menggunakan Pandas\n",
        "\n",
        "Pandas merupakan salah satu alternatif library yang sering digunakan untuk proses data wrangling. Pandas merupakan toolkit yang powerfull sebagai analisis data diawal dan pengenalan struktur dataset dalam Python. Mengaktifkan Pandas sangat mudah didalam python. Cukup dengan melakukan import seperti dibawah ini.\n",
        "\n",
        "`import pandas`\n",
        "\n",
        "Untuk mempermudah akses dan mempersingkat penamaan biasanya import pandas menggunakan inisial seperti dibawah ini:\n",
        "\n",
        "`import pandas as pd`\n",
        "\n",
        "Setelah melakukan import Anda sudah bisa menggunakan pandas. Untuk lebih memahami lagi apa itu pandas silahkan membaca dokumentasi dari pandas agar mudah untuk melakukan eksplorasi dengan menggunakan pandas."
      ]
    },
    {
      "cell_type": "markdown",
      "metadata": {
        "id": "ShVb5R0_eeJL",
        "colab_type": "text"
      },
      "source": [
        "### Membaca file dengan menggunakan pandas\n",
        "\n",
        "Sebagai salah satu library untuk melakukan proses awal dari analisis data, pandas juga memiliki kemampuan untuk membaca berbagai macam jenis file. Format yang bisa dibaca oleh pandas ada berbagai macam, antara lain .txt, .csv, .tsv, dan lainnya. Pandas tidak hanya bisa membaca file saja, namun juga bisa merubah data dari file menjadi bentuk dataframe yang akhirnya nanti bisa diakses, diagregasi dan diolah. Coba praktikan kode di bawah ini :"
      ]
    },
    {
      "cell_type": "code",
      "metadata": {
        "id": "m9wfeSlfeeJM",
        "colab_type": "code",
        "colab": {},
        "outputId": "30597a81-31ec-4ebe-b7a1-db13e01905ed"
      },
      "source": [
        "import pandas as pd\n",
        "\n",
        "csv_data = pd.read_csv(\"shopping_data.csv\")\n",
        "\n",
        "print(csv_data)"
      ],
      "execution_count": null,
      "outputs": [
        {
          "output_type": "stream",
          "text": [
            "     CustomerID   Genre  Age  Annual Income (k$)  Spending Score (1-100)\n",
            "0             1    Male   19                  15                      39\n",
            "1             2    Male   21                  15                      81\n",
            "2             3  Female   20                  16                       6\n",
            "3             4  Female   23                  16                      77\n",
            "4             5  Female   31                  17                      40\n",
            "..          ...     ...  ...                 ...                     ...\n",
            "195         196  Female   35                 120                      79\n",
            "196         197  Female   45                 126                      28\n",
            "197         198    Male   32                 126                      74\n",
            "198         199    Male   32                 137                      18\n",
            "199         200    Male   30                 137                      83\n",
            "\n",
            "[200 rows x 5 columns]\n"
          ],
          "name": "stdout"
        }
      ]
    },
    {
      "cell_type": "markdown",
      "metadata": {
        "id": "nlYiO9hyeeJR",
        "colab_type": "text"
      },
      "source": [
        "### Membaca file dengan menggunakan head()\n",
        "\n",
        "Pada suatu kasus, data yang kita baca cukup banyak atau loading yang lama. Untuk memastikan data kita terbaca dengan baik dan bisa menampilkan data sebagian untuk ditampilkan secara benar, kita bisa memakai fungsi head(). Bisa dituliskan kode di bawah ini untuk prakteknya:"
      ]
    },
    {
      "cell_type": "code",
      "metadata": {
        "id": "fsLmvLtfeeJR",
        "colab_type": "code",
        "colab": {},
        "outputId": "eb4cd4aa-7d70-4342-8d80-cc811babba30"
      },
      "source": [
        "import pandas as pd\n",
        "\n",
        "csv_data = pd.read_csv(\"shopping_data.csv\")\n",
        "\n",
        "print(csv_data.head())"
      ],
      "execution_count": null,
      "outputs": [
        {
          "output_type": "stream",
          "text": [
            "   CustomerID   Genre  Age  Annual Income (k$)  Spending Score (1-100)\n",
            "0           1    Male   19                  15                      39\n",
            "1           2    Male   21                  15                      81\n",
            "2           3  Female   20                  16                       6\n",
            "3           4  Female   23                  16                      77\n",
            "4           5  Female   31                  17                      40\n"
          ],
          "name": "stdout"
        }
      ]
    },
    {
      "cell_type": "markdown",
      "metadata": {
        "id": "-vI0tsa_eeJU",
        "colab_type": "text"
      },
      "source": [
        "### Melakukan akses data kolom\n",
        "\n",
        "Dalam suatu analisis data ada kalanya kita hanya butuh melakukan akses beberapa data saja dan tidak perlu harus menampilkan semua data. Pada pandas kita bisa melakukan akses dalam berbagai kebutuhan. Mulai dari hanya akses kolom tertentu ataupun baris tertentu. Pada sesi kali ini kita akan mencoba untuk melakukan akses beberapa kolom tertentu pada suatu dataset.\n",
        "\n",
        "Pertama yang harus dilakukan untuk melakukan akses kolom adalah mengetahui nama-nama kolom yang ada. Coba ketikkan kode di bawah ini untuk melihat nama kolom yang ada.\n",
        "\n",
        "Hasil pada panel console akan keluar seperti berikut :"
      ]
    },
    {
      "cell_type": "code",
      "metadata": {
        "id": "fAP6rcENeeJU",
        "colab_type": "code",
        "colab": {},
        "outputId": "a369526e-53d8-46a7-ca27-ca9865e65d44"
      },
      "source": [
        "import pandas as pd\n",
        "\n",
        "csv_data = pd.read_csv(\"shopping_data.csv\")\n",
        "\n",
        "print(csv_data.columns)"
      ],
      "execution_count": null,
      "outputs": [
        {
          "output_type": "stream",
          "text": [
            "Index(['CustomerID', 'Genre', 'Age', 'Annual Income (k$)',\n",
            "       'Spending Score (1-100)'],\n",
            "      dtype='object')\n"
          ],
          "name": "stdout"
        }
      ]
    },
    {
      "cell_type": "markdown",
      "metadata": {
        "id": "csYEtdM4eeJX",
        "colab_type": "text"
      },
      "source": [
        "**Note** : Pada dataset ini ada 5 kolom termasuk class, dimana 4 kolom  merupakan data numerik dan 1 kolom merupakan data string. Pada praktek selanjutnya kita akan mencoba mengakses data age. Untuk melakukannya coba tuliskan kode di bawah ini :"
      ]
    },
    {
      "cell_type": "code",
      "metadata": {
        "id": "QkDsiOZWeeJX",
        "colab_type": "code",
        "colab": {},
        "outputId": "5d929c68-5936-4d74-c12d-9735e382d1cc"
      },
      "source": [
        "import pandas as pd\n",
        "\n",
        "csv_data = pd.read_csv(\"shopping_data.csv\")\n",
        "\n",
        "print(csv_data['Age'])"
      ],
      "execution_count": null,
      "outputs": [
        {
          "output_type": "stream",
          "text": [
            "0      19\n",
            "1      21\n",
            "2      20\n",
            "3      23\n",
            "4      31\n",
            "       ..\n",
            "195    35\n",
            "196    45\n",
            "197    32\n",
            "198    32\n",
            "199    30\n",
            "Name: Age, Length: 200, dtype: int64\n"
          ],
          "name": "stdout"
        }
      ]
    },
    {
      "cell_type": "markdown",
      "metadata": {
        "id": "h_ylhyy3eeJa",
        "colab_type": "text"
      },
      "source": [
        "### Melakukan akses data melalui baris\n",
        "\n",
        "Selain melakukan akses data melalui kolom, dengan menggunakan pandas juga bisa melakukan akses dengan menggunakan baris. Berbeda dengan akses melalui kolom, fungsi untuk menampilkan data dari suatu baris adalah fungsi .iloc[i] dimana [i] menunjukan urutan baris yang akan ditampilkan yang dimana indexnya diawali dari 0. Coba ketikan code di bawah ini untuk mempermudah :"
      ]
    },
    {
      "cell_type": "code",
      "metadata": {
        "id": "YVddP_eSeeJb",
        "colab_type": "code",
        "colab": {},
        "outputId": "d3faed94-46e3-4294-a8ed-a053b8443b49"
      },
      "source": [
        "import pandas as pd\n",
        "\n",
        "csv_data = pd.read_csv(\"shopping_data.csv\")\n",
        "\n",
        "print(csv_data.iloc[5])"
      ],
      "execution_count": null,
      "outputs": [
        {
          "output_type": "stream",
          "text": [
            "CustomerID                     6\n",
            "Genre                     Female\n",
            "Age                           22\n",
            "Annual Income (k$)            17\n",
            "Spending Score (1-100)        76\n",
            "Name: 5, dtype: object\n"
          ],
          "name": "stdout"
        }
      ]
    },
    {
      "cell_type": "markdown",
      "metadata": {
        "id": "G6XMEOD6eeJe",
        "colab_type": "text"
      },
      "source": [
        "### Menampilkan suatu data dari baris dan kolom tertentu\n",
        "\n",
        "Tidak hanya dengan menentukan dari kolom dan baris, dengan menggunakan pandas kita juga bisa memanggil suatu data dari suatu baris dan kolom tertentu dalam satu waktu. Perhatikan dan coba kode di bawah ini:"
      ]
    },
    {
      "cell_type": "code",
      "metadata": {
        "id": "6s7FV7qBeeJf",
        "colab_type": "code",
        "colab": {},
        "outputId": "5788d6fb-2428-40c3-c36d-95d2d4c0b269"
      },
      "source": [
        "import pandas as pd\n",
        "\n",
        "csv_data = pd.read_csv(\"shopping_data.csv\")\n",
        "\n",
        "print(csv_data['Age'].iloc[1])\n",
        "\n",
        "print(\"Cuplikan Dataset:\")\n",
        "\n",
        "print(csv_data.head())"
      ],
      "execution_count": null,
      "outputs": [
        {
          "output_type": "stream",
          "text": [
            "21\n",
            "Cuplikan Dataset:\n",
            "   CustomerID   Genre  Age  Annual Income (k$)  Spending Score (1-100)\n",
            "0           1    Male   19                  15                      39\n",
            "1           2    Male   21                  15                      81\n",
            "2           3  Female   20                  16                       6\n",
            "3           4  Female   23                  16                      77\n",
            "4           5  Female   31                  17                      40\n"
          ],
          "name": "stdout"
        }
      ]
    },
    {
      "cell_type": "markdown",
      "metadata": {
        "id": "CrIQXhvneeJi",
        "colab_type": "text"
      },
      "source": [
        "Menampilkan data dalam range tertentu\n",
        "Setelah menampilkan suatu kelompok data, bagaimana jika ingin menampilkan data dari baris ke 5 sampai ke 20 dari suatu dataset? Untuk mengantisipasi hal tersebut, pandas juga bisa menampilkan data dalam range tertentu, baik range untuk baris saja, kolom saja, dan range untuk baris dan kolom.\n",
        "\n",
        "Akses range pada suatu kolom dan baris tertentu, untuk mencobanya silahkan ketikkan kode di bawah ini :\n",
        "\n",
        "Hasil pada panel console akan keluar seperti berikut :"
      ]
    },
    {
      "cell_type": "code",
      "metadata": {
        "id": "Ci6_SrY-eeJi",
        "colab_type": "code",
        "colab": {},
        "outputId": "b20f0e40-b71f-4330-e182-a04b6f82885a"
      },
      "source": [
        "import pandas as pd\n",
        "\n",
        "csv_data = pd.read_csv(\"shopping_data.csv\")\n",
        "\n",
        "print(\"Menampilkan data ke 5 sampai kurang dari 10 :\")\n",
        "\n",
        "print(csv_data['Age'].iloc[5:10])"
      ],
      "execution_count": null,
      "outputs": [
        {
          "output_type": "stream",
          "text": [
            "Menampilkan data ke 5 sampai kurang dari 10 :\n",
            "5    22\n",
            "6    35\n",
            "7    23\n",
            "8    64\n",
            "9    30\n",
            "Name: Age, dtype: int64\n"
          ],
          "name": "stdout"
        }
      ]
    },
    {
      "cell_type": "markdown",
      "metadata": {
        "id": "GJuJsyDreeJl",
        "colab_type": "text"
      },
      "source": [
        "Menampilkan suatu range data tertentu pada suatu baris saja. Cobalah ketikan kode di bawah ini :"
      ]
    },
    {
      "cell_type": "code",
      "metadata": {
        "id": "69f9k5RXeeJl",
        "colab_type": "code",
        "colab": {},
        "outputId": "665434b7-53b0-40de-8594-6ac04ef9f566"
      },
      "source": [
        "import pandas as pd\n",
        "\n",
        "csv_data = pd.read_csv(\"shopping_data.csv\")\n",
        "\n",
        "print(\"Menampilkan data ke 5 sampai kurang dari 10 dalam satu baris:\")\n",
        "\n",
        "print(csv_data.iloc[5:10])"
      ],
      "execution_count": null,
      "outputs": [
        {
          "output_type": "stream",
          "text": [
            "Menampilkan data ke 5 sampai kurang dari 10 dalam satu baris:\n",
            "   CustomerID   Genre  Age  Annual Income (k$)  Spending Score (1-100)\n",
            "5           6  Female   22                  17                      76\n",
            "6           7  Female   35                  18                       6\n",
            "7           8  Female   23                  18                      94\n",
            "8           9    Male   64                  19                       3\n",
            "9          10  Female   30                  19                      72\n"
          ],
          "name": "stdout"
        }
      ]
    },
    {
      "cell_type": "markdown",
      "metadata": {
        "id": "VZQpZJsCeeJo",
        "colab_type": "text"
      },
      "source": [
        "## Menampilkan informasi statistik dengan Numpy\n",
        "\n",
        "Mengetahui informasi statistik pada suatu data sangat penting. Mulai dari distribusi data, nilai max atau min, hingga standar deviasi dari suatu dataset. Jika datanya berjumlah dibawah 10 mungkin masih dikerjakan secara manual. Namun, bayangkan jika datanya sudah mencapai ratusan bahkan ribuan. Tidak mungkin pastinya untuk dilakukan secara manual. Maka dari itu pentingnya fungsi describe() pada pandas. Fungsi describe() ini memungkinkan untuk mengetahui informasi statistik dari suatu dataset secara cepat. Coba untuk ketikkan kode di bawah ini :\n",
        "\n",
        "Hasil pada panel console akan keluar seperti berikut :"
      ]
    },
    {
      "cell_type": "code",
      "metadata": {
        "id": "5fWKgybSeeJp",
        "colab_type": "code",
        "colab": {},
        "outputId": "54040617-bbd2-49e8-a5c8-49ee06844148"
      },
      "source": [
        "import pandas as pd\n",
        "\n",
        "csv_data = pd.read_csv(\"shopping_data.csv\")\n",
        "\n",
        "print(csv_data.describe(include='all'))"
      ],
      "execution_count": null,
      "outputs": [
        {
          "output_type": "stream",
          "text": [
            "        CustomerID   Genre         Age  Annual Income (k$)  \\\n",
            "count   200.000000     200  200.000000          200.000000   \n",
            "unique         NaN       2         NaN                 NaN   \n",
            "top            NaN  Female         NaN                 NaN   \n",
            "freq           NaN     112         NaN                 NaN   \n",
            "mean    100.500000     NaN   38.850000           60.560000   \n",
            "std      57.879185     NaN   13.969007           26.264721   \n",
            "min       1.000000     NaN   18.000000           15.000000   \n",
            "25%      50.750000     NaN   28.750000           41.500000   \n",
            "50%     100.500000     NaN   36.000000           61.500000   \n",
            "75%     150.250000     NaN   49.000000           78.000000   \n",
            "max     200.000000     NaN   70.000000          137.000000   \n",
            "\n",
            "        Spending Score (1-100)  \n",
            "count               200.000000  \n",
            "unique                     NaN  \n",
            "top                        NaN  \n",
            "freq                       NaN  \n",
            "mean                 50.200000  \n",
            "std                  25.823522  \n",
            "min                   1.000000  \n",
            "25%                  34.750000  \n",
            "50%                  50.000000  \n",
            "75%                  73.000000  \n",
            "max                  99.000000  \n"
          ],
          "name": "stdout"
        }
      ]
    },
    {
      "cell_type": "markdown",
      "metadata": {
        "id": "PpSricIHeeJr",
        "colab_type": "text"
      },
      "source": [
        "**Note** : Banyak nilai NaN yang tampil. Hal itu karena pada dataset ada format data string yang akhirnya memunculkan format NaN.\n",
        "\n",
        "Untuk meminimalisir hal tersebut dan memfilter hanya data numerical saja, digunakan  exclude=[‘O’], dimana fungsi itu akan mengabaikan data yang non-numerical untuk diproses. Coba implementasikan code di bawah ini:"
      ]
    },
    {
      "cell_type": "code",
      "metadata": {
        "id": "UvD_sMM5eeJt",
        "colab_type": "code",
        "colab": {},
        "outputId": "b4db4298-38bc-4f99-e3ea-2f2850bb699e"
      },
      "source": [
        "import pandas as pd\n",
        "\n",
        "csv_data = pd.read_csv(\"shopping_data.csv\")\n",
        "\n",
        "print(csv_data.describe(exclude=['O']))"
      ],
      "execution_count": null,
      "outputs": [
        {
          "output_type": "stream",
          "text": [
            "       CustomerID         Age  Annual Income (k$)  Spending Score (1-100)\n",
            "count  200.000000  200.000000          200.000000              200.000000\n",
            "mean   100.500000   38.850000           60.560000               50.200000\n",
            "std     57.879185   13.969007           26.264721               25.823522\n",
            "min      1.000000   18.000000           15.000000                1.000000\n",
            "25%     50.750000   28.750000           41.500000               34.750000\n",
            "50%    100.500000   36.000000           61.500000               50.000000\n",
            "75%    150.250000   49.000000           78.000000               73.000000\n",
            "max    200.000000   70.000000          137.000000               99.000000\n"
          ],
          "name": "stdout"
        }
      ]
    },
    {
      "cell_type": "markdown",
      "metadata": {
        "id": "Qs6ClO9EeeJv",
        "colab_type": "text"
      },
      "source": [
        "## Data Missing Hingga Normalisasi Data\n",
        "\n",
        "Cara menanggulangi data yang hilang hingga mempelajari data yang normal."
      ]
    },
    {
      "cell_type": "markdown",
      "metadata": {
        "id": "4ffAlC4heeJw",
        "colab_type": "text"
      },
      "source": [
        "### Handling Missing Value\n",
        "\n",
        "Pada suatu dataset, ada kalanya data yang kita akan kita kelola tidak lengkap. Hal ini tentunya akan menyulitkan atau membuat hasil analisa tidak akurat. Penanggulangan akan data yang hilang ini biasa disebut Handling Missing Value. Penanganan dari nilai yang kosong ini banyak caranya. Sebagai seorang data science yang berhubungan dengan data yang real, solusi pertama yang benar-benar kita anjurkan untuk kasus seperti ini adalah melakukan trace kembali ke sumber data atau memerika ulang record. Terutama jika data itu berasal dari human record. Sangat disarankan untuk menelusuri kembali agar tidak terjadi kesalahan ketika sudah mencapai titik analisa. Selain solusi untuk melakukan penelusuran kembali ke sumberdata, pada ilmu data science juga ada beberapa metode yang bisa dijadikan solusi untuk menangani kasus ini."
      ]
    },
    {
      "cell_type": "markdown",
      "metadata": {
        "id": "de0qDAQTeeJw",
        "colab_type": "text"
      },
      "source": [
        "### Melakukan pengecekan untuk nilai NULL yang ada\n",
        "\n",
        "Dengan menggunakan fungsi pandas, kita tidak perlu melihat satu persatu baris data untuk mengetahui apakah ada nilai kosong atau NULL/NAN pada suatu dataset. Bayangkan jika kita memilki 1000 baris data. Apakah kita harus melihat semua baris data tersebut? Tentu saja tidak. Maka dari itu di pandas disediakan fungsi untuk mengecek apakah ada data yang kosong. Coba praktikkan kode di bawah ini :"
      ]
    },
    {
      "cell_type": "code",
      "metadata": {
        "id": "Hr8gXb23eeJx",
        "colab_type": "code",
        "colab": {},
        "outputId": "0e819e3b-d365-4b62-8ab7-0a2ceeb2466b"
      },
      "source": [
        "import pandas as pd\n",
        "\n",
        "csv_data = pd.read_csv(\"http://academy.dqlab.id/dataset/shopping_data.csv\")\n",
        "\n",
        "print(csv_data.isnull().values.any())"
      ],
      "execution_count": null,
      "outputs": [
        {
          "output_type": "stream",
          "text": [
            "False\n"
          ],
          "name": "stdout"
        }
      ]
    },
    {
      "cell_type": "markdown",
      "metadata": {
        "id": "nHbx-T8AeeJz",
        "colab_type": "text"
      },
      "source": [
        "**Note** : data yang digunakan merupakan data yang lengkap, maka dari itu output yang dihasilkan False. Coba Sekarang ganti dengan dataset yang memang terdapat data yang kosong. Coba ketikkan kode di bawah ini :"
      ]
    },
    {
      "cell_type": "code",
      "metadata": {
        "id": "Yb-nvY78eeJz",
        "colab_type": "code",
        "colab": {},
        "outputId": "c18abc24-086f-469e-ea4c-e23e1732ab26"
      },
      "source": [
        "import pandas as pd\n",
        "\n",
        "csv_data = pd.read_csv(\"shopping_data_missingvalue.csv\")\n",
        "\n",
        "print(csv_data.isnull().values.any())"
      ],
      "execution_count": null,
      "outputs": [
        {
          "output_type": "stream",
          "text": [
            "True\n"
          ],
          "name": "stdout"
        }
      ]
    },
    {
      "cell_type": "markdown",
      "metadata": {
        "id": "BKh7QJ6ReeJ3",
        "colab_type": "text"
      },
      "source": [
        "### Solusi mengisi Missing Value\n",
        "\n",
        "Sebelum mengenal lebih banyak mengenai Solusi yang biasa ada pada kasus-kasus data science.\n",
        "\n",
        "Skema yang biasanya sering dalam pengelolaan data.\n",
        "\n",
        "![](https://github.com/MyArist/DQLab/blob/master/Learn/Python/Fundamental/Data%20Wrangling%20Python/Picts/skema.png?raw=1)\n",
        "\n",
        "Dalam diagram diatas, perlu diketahui bahwa kasus kehilangan data bisa diatasi dengan berbagai cara. Bahkan, melakukan penghapusan data juga merupakan solusi yang bisa menjadi pilihan apabila jika dirasa mengisi nilai kosong akan memberikan pengaruh yang kurang bagus terhadap analisa, atau apabila pertimbangan data yang dihapus atau data yang hilang sedikit dan tidak memberikan terlalu banyak sumbangsih untuk analisa yang akan dilakukan. Penghapusan data bisa langsung pada baris data tersebut atau langsung satu kolom data. Pada solusi kedua yaitu menggunakan imputation (pengisian data yang kosong) bisa tergantung dari permasalahannya. Khusus untuk masalah yang berhubungan forecasting atau peramalan tergantung dari data yang ada (lebih lengkap bisa dilihat pada gambar). Khusus untuk general problem tergantung jenis datanya. Jika yang hilang data kategorikal atau bersifat string bisa menggunakna relasi antar kolom dengan Logistic Regression, jika numerical bisa menggunakan statistik sederhana dan linear regression. Pada sesi kali ini kita akan mencoba menangani data hilang dengan statistik sederhana, Mean dan Median."
      ]
    },
    {
      "cell_type": "markdown",
      "metadata": {
        "id": "papi0MKOeeJ3",
        "colab_type": "text"
      },
      "source": [
        "### Mengisi dengan Mean\n",
        "\n",
        "Salah satu metode yang bisa dikatakan sebagai solusi yang umum pada kasus general data science adalah mengisi data kosong dengan menggunakan mean dari masing-masing kolom. Pertama kita harus menentukan mean dari masing-masing kolom. Pada pandas terdapat fungsi mean() untuk menentukan nilai mean dari masing-masing kolom. Mean sendiri digunakan untuk data yang memiliki sedikit sifat outlier/noisy/anomali dalam sebaran datanya maupun isinya.  Coba ketikkan kode di bawah ini :"
      ]
    },
    {
      "cell_type": "code",
      "metadata": {
        "id": "Rb4sb1CveeJ3",
        "colab_type": "code",
        "colab": {},
        "outputId": "fad37bd8-3e72-44ae-cae3-cb08fc55a23a"
      },
      "source": [
        "import pandas as pd\n",
        "\n",
        "csv_data = pd.read_csv(\"shopping_data_missingvalue.csv\")\n",
        "\n",
        "print(csv_data.mean())"
      ],
      "execution_count": null,
      "outputs": [
        {
          "output_type": "stream",
          "text": [
            "CustomerID                100.500000\n",
            "Age                        38.939698\n",
            "Annual Income (k$)         61.005051\n",
            "Spending Score (1-100)     50.489899\n",
            "dtype: float64\n"
          ],
          "name": "stdout"
        }
      ]
    },
    {
      "cell_type": "markdown",
      "metadata": {
        "id": "xaXdTwvZeeJ5",
        "colab_type": "text"
      },
      "source": [
        "Fungsi mean sendiri berfungsi untuk menampilkan  nilai mean (rata-rata) dari setiap kolom. Nilai inilah nanti yang akan mengisi nilai kosong dari dataset yang mengalami kasus missing value. Untuk mengisi nilai yang kosong menggunakan fungsi fillna(), coba ketikkan kode di bawah ini :"
      ]
    },
    {
      "cell_type": "code",
      "metadata": {
        "id": "8oDmszB2eeJ6",
        "colab_type": "code",
        "colab": {},
        "outputId": "9a3d17b9-3447-4d2a-ab0d-04e125904dd6"
      },
      "source": [
        "import pandas as pd\n",
        "\n",
        "csv_data = pd.read_csv(\"shopping_data_missingvalue.csv\")\n",
        "print(csv_data.mean())\n",
        "print(\"Dataset yang masih terdapat nilai kosong ! :\")\n",
        "print(csv_data.head(10))\n",
        "\n",
        "csv_data=csv_data.fillna(csv_data.mean())\n",
        "print(\"Dataset yang sudah diproses Handling Missing Values dengan Mean :\")\n",
        "print(csv_data.head(10)) "
      ],
      "execution_count": null,
      "outputs": [
        {
          "output_type": "stream",
          "text": [
            "CustomerID                100.500000\n",
            "Age                        38.939698\n",
            "Annual Income (k$)         61.005051\n",
            "Spending Score (1-100)     50.489899\n",
            "dtype: float64\n",
            "Dataset yang masih terdapat nilai kosong ! :\n",
            "   CustomerID   Genre   Age  Annual Income (k$)  Spending Score (1-100)\n",
            "0           1    Male  19.0                15.0                    39.0\n",
            "1           2    Male   NaN                15.0                    81.0\n",
            "2           3  Female  20.0                 NaN                     6.0\n",
            "3           4  Female  23.0                16.0                    77.0\n",
            "4           5  Female  31.0                17.0                     NaN\n",
            "5           6  Female  22.0                 NaN                    76.0\n",
            "6           7  Female  35.0                18.0                     6.0\n",
            "7           8  Female  23.0                18.0                    94.0\n",
            "8           9    Male  64.0                19.0                     NaN\n",
            "9          10  Female  30.0                19.0                    72.0\n",
            "Dataset yang sudah diproses Handling Missing Values dengan Mean :\n",
            "   CustomerID   Genre        Age  Annual Income (k$)  Spending Score (1-100)\n",
            "0           1    Male  19.000000           15.000000               39.000000\n",
            "1           2    Male  38.939698           15.000000               81.000000\n",
            "2           3  Female  20.000000           61.005051                6.000000\n",
            "3           4  Female  23.000000           16.000000               77.000000\n",
            "4           5  Female  31.000000           17.000000               50.489899\n",
            "5           6  Female  22.000000           61.005051               76.000000\n",
            "6           7  Female  35.000000           18.000000                6.000000\n",
            "7           8  Female  23.000000           18.000000               94.000000\n",
            "8           9    Male  64.000000           19.000000               50.489899\n",
            "9          10  Female  30.000000           19.000000               72.000000\n"
          ],
          "name": "stdout"
        }
      ]
    },
    {
      "cell_type": "markdown",
      "metadata": {
        "id": "KvMY9u08eeJ9",
        "colab_type": "text"
      },
      "source": [
        "### Mengisi dengan Median\\\n",
        "\n",
        "Berbeda dengan mean pada sesi sebelumnya, median digunakan untuk data-data yang memiliki sifat outlier yang kuat. Kenapa median dipilih? Median merupakan nilai tengah yang artinya bukan hasil dari perhitungan yang melibatkan data outlier. Pada beberapa kasus, data outlier dianggap mengganggu dan sering dianggap noisy karena bisa mempengaruhi distribusi kelas dan mengganggu analisa pada klasterisasi (clustering)."
      ]
    },
    {
      "cell_type": "code",
      "metadata": {
        "id": "mSD-sEoBeeJ-",
        "colab_type": "code",
        "colab": {},
        "outputId": "be051eeb-61d4-4c31-ae1a-69a82a682731"
      },
      "source": [
        "import pandas as pd\n",
        "\n",
        "csv_data = pd.read_csv(\"shopping_data_missingvalue.csv\")\n",
        "\n",
        "print(csv_data.median())"
      ],
      "execution_count": null,
      "outputs": [
        {
          "output_type": "stream",
          "text": [
            "CustomerID                100.5\n",
            "Age                        36.0\n",
            "Annual Income (k$)         62.0\n",
            "Spending Score (1-100)     50.0\n",
            "dtype: float64\n"
          ],
          "name": "stdout"
        }
      ]
    },
    {
      "cell_type": "markdown",
      "metadata": {
        "id": "BOvlVnN6eeKA",
        "colab_type": "text"
      },
      "source": [
        "Sama dengan sesi sebelumnya dengan mean(), gunakan kode di bawah ini untuk mengisi nilai yang kosong menggunakan fungsi fillna() :"
      ]
    },
    {
      "cell_type": "code",
      "metadata": {
        "id": "3Gt8SKuReeKA",
        "colab_type": "code",
        "colab": {},
        "outputId": "f613d4fd-16fb-466d-8586-762cba240944"
      },
      "source": [
        "import pandas as pd\n",
        "\n",
        "csv_data = pd.read_csv(\"shopping_data_missingvalue.csv\")\n",
        "print(\"Dataset yang masih terdapat nilai kosong ! :\")\n",
        "print(csv_data.head(10))\n",
        "\n",
        "csv_data=csv_data.fillna(csv_data.median())\n",
        "print(\"Dataset yang sudah diproses Handling Missing Values dengan Median :\")\n",
        "print(csv_data.head(10))"
      ],
      "execution_count": null,
      "outputs": [
        {
          "output_type": "stream",
          "text": [
            "Dataset yang masih terdapat nilai kosong ! :\n",
            "   CustomerID   Genre   Age  Annual Income (k$)  Spending Score (1-100)\n",
            "0           1    Male  19.0                15.0                    39.0\n",
            "1           2    Male   NaN                15.0                    81.0\n",
            "2           3  Female  20.0                 NaN                     6.0\n",
            "3           4  Female  23.0                16.0                    77.0\n",
            "4           5  Female  31.0                17.0                     NaN\n",
            "5           6  Female  22.0                 NaN                    76.0\n",
            "6           7  Female  35.0                18.0                     6.0\n",
            "7           8  Female  23.0                18.0                    94.0\n",
            "8           9    Male  64.0                19.0                     NaN\n",
            "9          10  Female  30.0                19.0                    72.0\n",
            "Dataset yang sudah diproses Handling Missing Values dengan Median :\n",
            "   CustomerID   Genre   Age  Annual Income (k$)  Spending Score (1-100)\n",
            "0           1    Male  19.0                15.0                    39.0\n",
            "1           2    Male  36.0                15.0                    81.0\n",
            "2           3  Female  20.0                62.0                     6.0\n",
            "3           4  Female  23.0                16.0                    77.0\n",
            "4           5  Female  31.0                17.0                    50.0\n",
            "5           6  Female  22.0                62.0                    76.0\n",
            "6           7  Female  35.0                18.0                     6.0\n",
            "7           8  Female  23.0                18.0                    94.0\n",
            "8           9    Male  64.0                19.0                    50.0\n",
            "9          10  Female  30.0                19.0                    72.0\n"
          ],
          "name": "stdout"
        }
      ]
    },
    {
      "cell_type": "markdown",
      "metadata": {
        "id": "7ifWuJAheeKC",
        "colab_type": "text"
      },
      "source": [
        "### Normalisasi Data\n",
        "\n",
        "Terkadang pada beberapa kasus, 1 kolom dengan kolom yang lain memiliki skala yang berbeda. Seperti cuplikan gambar di bawah ini :\n",
        "\n",
        "No | Usia | Masa Kerja (Tahun) | Gaji\n",
        "1 | 50 | 30 | 10000000\n",
        "2 | 30 | 10 | 5000000\n",
        "\n",
        "Antara Usia dan Masa Kerja masih memiliki range yang sama dalam skala puluhan. Namun, jika kolom Usia dan Masa Kerja dibandingkan dengan Gaji memiliki range nilai yang berbeda, dimana Usia dan Masa Kerja memiliki range puluhan dan Gaji mempunyai range nilai jutaan. Memang terlihat sederhana, namun hal ini bisa menjadi masalah besar dalam contoh kasus klasterisasi atau klasifikasi. Masuk pada kasus K-means yang sudah pernah dibahas sebelumnya. K-means merupakan algoritma klasterisasi (clustering) yang menggunakan perhitungan jarak dalam prosesnya. Sekarang coba bayangkan :\n",
        "\n",
        "![](https://github.com/MyArist/DQLab/blob/master/Learn/Python/Fundamental/Data%20Wrangling%20Python/Picts/norm.png?raw=1)\n",
        "\n",
        "Jika tidak ada normalisasi, maka jelas perhitungan kmeans diatas akan tergantung pada Gaji. Kenapa? Karena gaji berdomain jutaan dan 2 kolom lainnya hanya berdomain puluhan. Berapapun usia dan masa kerja seseorang tidak akan berpengaruh terhadap penilaian suatu perusahaan. Perbedaan skala pada setiap kolom ini merupakan hal yang sangat wajar dan sering terjadi dan inilah pentingnya normalisasi. Normalisasi sangat penting, terutama untuk yang menggunakan perhitungan jarak dengan menggunakan metode apapun."
      ]
    },
    {
      "cell_type": "markdown",
      "metadata": {
        "id": "kX1cJ3DreeKD",
        "colab_type": "text"
      },
      "source": [
        "### Metode Normalisasi\n",
        "\n",
        "Ada berbagai macam metode normalisasi, seperti MinMax, Zscore, Decimal Scaling, Sigmoid, dan Softmax. Pemakaiannya tergantung pada kebutuhan dari dataset dan jenis analisa yang dilakukan.\n",
        "\n",
        "**MinMax**\n",
        "\n",
        "Metode Min-Max merupakan metode yang cukup bisa dibayangkan karena termasuk metode normalisasi yang bersifat linier dengan data aslinya. Namun, metode ini bisa menyebabkan out of bound pada beberapa kasus.\n",
        "\n",
        "![](https://github.com/MyArist/DQLab/blob/master/Learn/Python/Fundamental/Data%20Wrangling%20Python/Picts/minmax.png?raw=1)\n",
        "\n",
        "Kenapa bisa terjadi out of bound? Out of Bound terjadi apabila ada data baru masuk, dimana data tersebut melebihi nilai maksimal atau nilai minimal dari data yang sudah ada. Secara otomatis, perhitungan yang berlaku pada data yang sudah diperoleh tadi harus diulangi lagi semuanya dengan data baru yang masuk atau data baru yang mempunyai nilai maksimal/minimum yang melebihi tadi tidak bisa diproses. Karena kekurangan inilah MinMax tidak cocok untuk analisa real time / evolving system. Dimungkinkan dalam kasus-kasus terjadi kasus out of bound pada MinMax.\n",
        "\n",
        "MinMax sangat dianjurkan untuk kasus-kasus berbasis time frame analisis dan forecasting. Perhitungan dari metode ini cukup mengurangi data yang asli dengan nilai minimal dari fitur tersebut, kemudian hasil tersebut dikalikan dari hasil pengurangan nilai maximal yang baru dengan nilai minimal yang baru dan kemudian dibagi dengan nilai max dan min data di setiap fitur terakhir ditambah dengan nilai min yang baru.\n",
        "\n",
        "**Z-Score**\n",
        "\n",
        "Zscore adalah metode yang sering digunakan dalam berbagai penelitian berbasis data mining atau data science. Z-score merupakan metode normalisasi yang berdasarkan mean (nilai rata-rata) dan standard deviation (deviasi standar) dari data. Kenapa Z-Score sangat populer? Selain tidak banyak variabel yang diset dalam perhitungannya. Z-Score sangat dinamis dalam melakukan perhitungan normalisasi. Kelemahan dari Z-Score adalah prosesnya akan terulang lagi jika ada data baru yang masuk. Selain itu elemen yang dibutuhkan untuk perhitungan Z-Score juga membutuhkan proses yang cukup lama baik standar deviation ataupun rata-rata dari setiap kolom.\n",
        "\n",
        "![](https://github.com/MyArist/DQLab/blob/master/Learn/Python/Fundamental/Data%20Wrangling%20Python/Picts/zscore.png?raw=1)\n",
        "\n",
        "**Decimal Scaling**\n",
        "\n",
        "![](https://github.com/MyArist/DQLab/blob/master/Learn/Python/Fundamental/Data%20Wrangling%20Python/Picts/decscale.png?raw=1)\n",
        "\n",
        "**Softmax**\n",
        "\n",
        "Softmax merupakan metode normalisasi pengembangan transformasi secara linier. Output range-nya adalah 0-1. Metode ini sangat berguna pada saat data yang ada melibatkan data outlier.\n",
        "\n",
        "![](https://github.com/MyArist/DQLab/blob/master/Learn/Python/Fundamental/Data%20Wrangling%20Python/Picts/softmax.png?raw=1)\n",
        "\n",
        "**Sigmoid**\n",
        "\n",
        "Sigmoidal merupakan metode normalization melakukan normalisasi data secara nonlinier ke dalam range -1 s/d 1 dengan menggunakan fungsi sigmoid. Metode ini sangat berguna pada saat data yang ada melibatkan data outlier. Data outlier adalah data yang keluar jauh dari jangkauan data lainnya.\n",
        "\n",
        "![](https://github.com/MyArist/DQLab/blob/master/Learn/Python/Fundamental/Data%20Wrangling%20Python/Picts/sigmoid.png?raw=1)"
      ]
    },
    {
      "cell_type": "markdown",
      "metadata": {
        "id": "ldPbH76geeKD",
        "colab_type": "text"
      },
      "source": [
        "### Praktek Normalisasi menggunakan Scikit Learn pada Python\n",
        "\n",
        "Scikit Learn merupakan library pada python yang digunakan untuk machine learning dan data science. Salah satu library yang selalu menjadi favorit dan komunitasnya sangat kuat. Scikit-learn sendiri tidak hanya untuk analytics saja, namun juga untuk pre-processing, feature selection, dan proses analysis lainnya. Melanjutkan dari sesi normalisasi data, mari kita praktekan kode di bawah ini :"
      ]
    },
    {
      "cell_type": "code",
      "metadata": {
        "id": "BNs2nhTeeeKD",
        "colab_type": "code",
        "colab": {}
      },
      "source": [
        "import pandas as pd\n",
        "import numpy as np\n",
        "from sklearn import preprocessing\n",
        "\n",
        "csv_data = pd.read_csv(\"shopping_data.csv\")\n",
        "array = csv_data.values"
      ],
      "execution_count": null,
      "outputs": []
    },
    {
      "cell_type": "markdown",
      "metadata": {
        "id": "jb_PInLIeeKF",
        "colab_type": "text"
      },
      "source": [
        "X merupakan matriks yang berisi fitur dataset yang akan digunakan dalam machine learning, baik untuk regresi, klasifikasi, pengklusteran, atau normalisasi\n",
        "\n",
        "Pada kasus kita, X berisi fitur-fitur yang digunakan untuk dinormalisasi dengan teknik min-max scaler\n",
        "\n",
        "Ketik lanjutan dari kode di atas:"
      ]
    },
    {
      "cell_type": "code",
      "metadata": {
        "id": "Jeq5jBz-eeKG",
        "colab_type": "code",
        "colab": {},
        "outputId": "624b98ff-c6ea-4d37-c8f0-981426e4a73a"
      },
      "source": [
        "X = array[:,2:5] #memisahkan fitur dari dataset. \n",
        "Y = array[:,0:1]  #memisahkan class dari dataset\n",
        "\n",
        "dataset=pd.DataFrame({'Customer ID':array[:,0],'Gender':array[:,1],'Age':array[:,2],'Income':array[:,3],'Spending Score':array[:,4]})\n",
        "print(\"dataset sebelum dinormalisasi :\")\n",
        "print(dataset.head(10))\n",
        "\n",
        "min_max_scaler = preprocessing.MinMaxScaler(feature_range=(0,1)) #inisialisasi normalisasi MinMax\n",
        "data = min_max_scaler.fit_transform(X) #transformasi MinMax untuk fitur\n",
        "dataset = pd.DataFrame({'Age':data[:,0],'Income':data[:,1],'Spending Score':data[:,2],'Customer ID':array[:,0],'Gender':array[:,1]})\n",
        "\n",
        "print(\"dataset setelah dinormalisasi :\")\n",
        "print(dataset.head(10))"
      ],
      "execution_count": null,
      "outputs": [
        {
          "output_type": "stream",
          "text": [
            "dataset sebelum dinormalisasi :\n",
            "  Customer ID  Gender Age Income Spending Score\n",
            "0           1    Male  19     15             39\n",
            "1           2    Male  21     15             81\n",
            "2           3  Female  20     16              6\n",
            "3           4  Female  23     16             77\n",
            "4           5  Female  31     17             40\n",
            "5           6  Female  22     17             76\n",
            "6           7  Female  35     18              6\n",
            "7           8  Female  23     18             94\n",
            "8           9    Male  64     19              3\n",
            "9          10  Female  30     19             72\n",
            "dataset setelah dinormalisasi :\n",
            "        Age    Income  Spending Score Customer ID  Gender\n",
            "0  0.019231  0.000000        0.387755           1    Male\n",
            "1  0.057692  0.000000        0.816327           2    Male\n",
            "2  0.038462  0.008197        0.051020           3  Female\n",
            "3  0.096154  0.008197        0.775510           4  Female\n",
            "4  0.250000  0.016393        0.397959           5  Female\n",
            "5  0.076923  0.016393        0.765306           6  Female\n",
            "6  0.326923  0.024590        0.051020           7  Female\n",
            "7  0.096154  0.024590        0.948980           8  Female\n",
            "8  0.884615  0.032787        0.020408           9    Male\n",
            "9  0.230769  0.032787        0.724490          10  Female\n"
          ],
          "name": "stdout"
        }
      ]
    },
    {
      "cell_type": "markdown",
      "metadata": {
        "id": "Q6XjKX-beeKI",
        "colab_type": "text"
      },
      "source": [
        "## You Have Passed the Module\n",
        "\n",
        "![](https://github.com/MyArist/DQLab/blob/master/Learn/Python/Fundamental/Data%20Wrangling%20Python/Picts/congratulations.png?raw=1)"
      ]
    }
  ]
}